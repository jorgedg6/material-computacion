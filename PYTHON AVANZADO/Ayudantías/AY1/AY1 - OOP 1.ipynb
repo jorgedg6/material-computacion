{
 "cells": [
  {
   "cell_type": "markdown",
   "metadata": {
    "slideshow": {
     "slide_type": "slide"
    }
   },
   "source": [
    "# Ayudantía 1: OOP1\n"
   ]
  },
  {
   "cell_type": "markdown",
   "metadata": {
    "slideshow": {
     "slide_type": "slide"
    }
   },
   "source": [
    "# Objetos"
   ]
  },
  {
   "cell_type": "markdown",
   "metadata": {
    "slideshow": {
     "slide_type": "subslide"
    }
   },
   "source": [
    "Crearemos la clase Animal para comezar a trabajar con objetos"
   ]
  },
  {
   "cell_type": "code",
   "execution_count": null,
   "metadata": {
    "slideshow": {
     "slide_type": "subslide"
    }
   },
   "outputs": [],
   "source": [
    "class Animal:\n",
    "    def __init__(self, nombre, tamano, especie):\n",
    "        self.nombre = nombre\n",
    "        self.tamano = tamano\n",
    "        self.especie = especie\n",
    "\n",
    "\n",
    "    def comer(self, kg_comida):\n",
    "        self.tamano += kg_comida\n",
    "        if self.especie == \"perro\":\n",
    "            print(\"woof woof\")\n",
    "        elif self.especie == \"gato\":\n",
    "            print(\"miau miau\")\n",
    "        elif self.especie == \"humano\":\n",
    "            print(\"ñamiii\")"
   ]
  },
  {
   "cell_type": "markdown",
   "metadata": {
    "slideshow": {
     "slide_type": "subslide"
    }
   },
   "source": [
    "Instanciaremos la clase Animal"
   ]
  },
  {
   "cell_type": "code",
   "execution_count": null,
   "metadata": {
    "slideshow": {
     "slide_type": "subslide"
    }
   },
   "outputs": [],
   "source": [
    "animal1 = Animal(\"Tigre\", 10, \"gato\")\n",
    "animal2 = Animal(\"Diego\", 60.4, \"humano\")\n",
    "\n",
    "print(f\"{animal1.nombre} es un {animal1.especie} y pesa {animal1.tamano} kg.\")\n",
    "print(f\"{animal2.nombre} es un {animal2.especie} y pesa {animal2.tamano} kg.\")"
   ]
  },
  {
   "cell_type": "markdown",
   "metadata": {
    "slideshow": {
     "slide_type": "subslide"
    }
   },
   "source": [
    "Cabe mencionar que acá podemos hacer una distinción entre los conceptos clase y objeto.\n",
    "\n",
    "Clase: Animal()\n",
    "\n",
    "Objeto: animal1 y animal2"
   ]
  },
  {
   "cell_type": "code",
   "execution_count": null,
   "metadata": {
    "slideshow": {
     "slide_type": "subslide"
    }
   },
   "outputs": [],
   "source": [
    "animal1.comer(1)\n",
    "print(f\"{animal1.nombre} despues de comer pesa {animal1.tamano} kg.\")\n",
    "\n",
    "animal2.comer(3)\n",
    "print(f\"{animal2.nombre} despues de comer pesa {animal2.tamano} kg.\")"
   ]
  },
  {
   "cell_type": "markdown",
   "metadata": {
    "slideshow": {
     "slide_type": "slide"
    }
   },
   "source": [
    "## Encapsulamiento"
   ]
  },
  {
   "cell_type": "markdown",
   "metadata": {
    "slideshow": {
     "slide_type": "subslide"
    }
   },
   "source": [
    "Se refiere al ocultamiento de los atributos de un objeto de manera que éstos sólo puedan ser modificados mediante los métodos que el programador defina."
   ]
  },
  {
   "cell_type": "code",
   "execution_count": null,
   "metadata": {
    "slideshow": {
     "slide_type": "subslide"
    }
   },
   "outputs": [],
   "source": [
    "class Persona:\n",
    "    def __init__(self, nombre, edad, altura, clave_de_facebook):\n",
    "        self.energia = 50\n",
    "        self.nombre = nombre\n",
    "        self.edad = edad\n",
    "        self.clave_secreta = clave_de_facebook\n",
    "\n",
    "    def postear_en_facebook(self):\n",
    "        clave = input(\"ingrese clave: \")\n",
    "        if clave == self.clave_secreta:\n",
    "            print(\"Foto posteada\")\n",
    "        else:\n",
    "            print(\"Clave inválida\")"
   ]
  },
  {
   "cell_type": "code",
   "execution_count": null,
   "metadata": {
    "slideshow": {
     "slide_type": "subslide"
    }
   },
   "outputs": [],
   "source": [
    "persona2 = Persona(\"Daniela\", 20, 1.60, \"1234\")\n",
    "persona2.postear_en_facebook()"
   ]
  },
  {
   "cell_type": "markdown",
   "metadata": {
    "slideshow": {
     "slide_type": "subslide"
    }
   },
   "source": [
    "Vemos aquí que la clase funciona perfecto! Pero... ¿Qué pasa si queremos acceder a la clave secreta de Daniela?"
   ]
  },
  {
   "cell_type": "code",
   "execution_count": null,
   "metadata": {
    "slideshow": {
     "slide_type": "subslide"
    }
   },
   "outputs": [],
   "source": [
    "print(\"Muajaja ya sabemos que tu clave secreta es\", persona2.clave_secreta,\"ahora podremos publicar cosas en tu facebook!\")"
   ]
  },
  {
   "cell_type": "markdown",
   "metadata": {
    "slideshow": {
     "slide_type": "subslide"
    }
   },
   "source": [
    "Rayos!, nos han robado la clave secreta! Si tan solo hubiera una forma de ocultarla."
   ]
  },
  {
   "cell_type": "markdown",
   "metadata": {
    "slideshow": {
     "slide_type": "subslide"
    }
   },
   "source": [
    "Espera, si la hay 🤩"
   ]
  },
  {
   "cell_type": "markdown",
   "metadata": {
    "slideshow": {
     "slide_type": "subslide"
    }
   },
   "source": [
    "Y es utilizando un doble underscore `_` antes del nombre del atributo"
   ]
  },
  {
   "cell_type": "code",
   "execution_count": null,
   "metadata": {
    "slideshow": {
     "slide_type": "subslide"
    }
   },
   "outputs": [],
   "source": [
    "class Persona:\n",
    "    def __init__(self, nombre, edad, altura, clave_de_facebook, clave_del_celular):\n",
    "        self.energia = 50\n",
    "        self.nombre = nombre\n",
    "        self.edad = edad\n",
    "        self.__clave_secreta = clave_de_facebook\n",
    "        self._clave_no_tan_secreta = clave_del_celular\n",
    "\n",
    "    def postear_en_facebook(self):\n",
    "        clave = input(\"ingrese clave: \")\n",
    "        if clave == self.__clave_secreta:\n",
    "            print(\"Foto posteada\")\n",
    "        else:\n",
    "            print(\"Clave inválida\")"
   ]
  },
  {
   "cell_type": "code",
   "execution_count": null,
   "metadata": {
    "slideshow": {
     "slide_type": "subslide"
    }
   },
   "outputs": [],
   "source": [
    "persona2 = Persona(\"Daniela\", 20, 1.60, \"1234\", \"123\")\n",
    "persona2.postear_en_facebook()"
   ]
  },
  {
   "cell_type": "markdown",
   "metadata": {
    "slideshow": {
     "slide_type": "subslide"
    }
   },
   "source": [
    "De esta forma, al intentar acceder al atributo desde afuera de la clase, sucede lo siguiente:"
   ]
  },
  {
   "cell_type": "code",
   "execution_count": null,
   "metadata": {
    "slideshow": {
     "slide_type": "subslide"
    }
   },
   "outputs": [],
   "source": [
    "print(\"Muajaja ya sabemos que tu clave secreta es\", persona2.__clave_secreta) #Intentar con el guion bajo"
   ]
  },
  {
   "cell_type": "markdown",
   "metadata": {
    "slideshow": {
     "slide_type": "subslide"
    }
   },
   "source": [
    "En cambio, la clave del celular (que no está encapsulada) si se puede ver. Sin embargo, es una convención entre los programadores escribir un solo _ (underscore) cuando no queremos que el atributo sea accedido desde afuera."
   ]
  },
  {
   "cell_type": "markdown",
   "metadata": {
    "slideshow": {
     "slide_type": "slide"
    }
   },
   "source": [
    "# Properties"
   ]
  },
  {
   "cell_type": "markdown",
   "metadata": {
    "slideshow": {
     "slide_type": "subslide"
    }
   },
   "source": [
    "### Veamos el siguiente código"
   ]
  },
  {
   "cell_type": "code",
   "execution_count": null,
   "metadata": {
    "slideshow": {
     "slide_type": "subslide"
    }
   },
   "outputs": [],
   "source": [
    "class Empresa:\n",
    "\n",
    "    def __init__(self, trabajadores):\n",
    "        self.numero_trabajadores = trabajadores\n",
    "\n",
    "    def contratar_trabjador(self, cantidad):\n",
    "        if cantidad > 1:\n",
    "            print(f\"Se han contratado {cantidad} trabajadores :)\")\n",
    "        else:\n",
    "            print(f\"Se ha contratado a un trabajador :)\")\n",
    "        self.numero_trabajadores += cantidad\n",
    "        print(f\"Actualmente hay {self.numero_trabajadores} trabajadores en la empresa\")\n",
    "\n",
    "    def despedir_trabajador(self, cantidad):\n",
    "        if cantidad > 1:\n",
    "            print(f\"Se han despedido {cantidad} trabajadores :(\")\n",
    "        else:\n",
    "            print(f\"Se ha despedido a un trabajador :(\")\n",
    "        self.numero_trabajadores -= cantidad\n",
    "        print(f\"Actualmente hay {self.numero_trabajadores} trabajadores en la empresa\")"
   ]
  },
  {
   "cell_type": "code",
   "execution_count": null,
   "metadata": {
    "slideshow": {
     "slide_type": "subslide"
    }
   },
   "outputs": [],
   "source": [
    "dcchocolateria = Empresa(4)\n",
    "dcchocolateria.contratar_trabjador(3)\n",
    "print(\"-\" * 45)\n",
    "dcchocolateria.despedir_trabajador(7)\n",
    "print(\"-\" * 45)\n",
    "dcchocolateria.despedir_trabajador(1)\n",
    "# dcchocolateria.numero_trabajadores -= 12 \n",
    "# print(dcchocolateria.numero_trabajadores)"
   ]
  },
  {
   "cell_type": "markdown",
   "metadata": {
    "slideshow": {
     "slide_type": "subslide"
    }
   },
   "source": [
    "### ¿Existe algún error en el código?"
   ]
  },
  {
   "cell_type": "markdown",
   "metadata": {
    "slideshow": {
     "slide_type": "subslide"
    }
   },
   "source": [
    "### Ocurre que existe la posibilidad de que exista un número de trabajadores negativos 😯"
   ]
  },
  {
   "cell_type": "markdown",
   "metadata": {
    "slideshow": {
     "slide_type": "subslide"
    }
   },
   "source": [
    "Para solucionar lo anterior podemos hacer uso de las properties."
   ]
  },
  {
   "cell_type": "markdown",
   "metadata": {
    "slideshow": {
     "slide_type": "subslide"
    }
   },
   "source": [
    "Hasta ahora hemos visto que nuestras clases tienen atributos y métodos. Pero que pasa si queremos que algún atributo de nuestra clase sea privado."
   ]
  },
  {
   "cell_type": "markdown",
   "metadata": {
    "slideshow": {
     "slide_type": "subslide"
    }
   },
   "source": [
    "Los beneficios de esto es el poder tener atributos que no pueden ser modificados tan facilmente desde fuera de la clase, es decir, podemos controlar cuando puede o no ser modificado este atributo y sobre que condiciones puede hacerlo."
   ]
  },
  {
   "cell_type": "markdown",
   "metadata": {
    "slideshow": {
     "slide_type": "subslide"
    }
   },
   "source": [
    "### Pero... ¿Cómo definimos una property?"
   ]
  },
  {
   "cell_type": "markdown",
   "metadata": {
    "slideshow": {
     "slide_type": "subslide"
    }
   },
   "source": [
    "Si tomamos en considernación el ejemplo de la empresa, es posible percatarse que el uso de properties sería muy útil para controlar la cantidad de trabajadores."
   ]
  },
  {
   "cell_type": "code",
   "execution_count": null,
   "metadata": {
    "slideshow": {
     "slide_type": "subslide"
    }
   },
   "outputs": [],
   "source": [
    "class Empresa:\n",
    "\n",
    "    def __init__(self, trabajadores):\n",
    "        self.__numero_trabajadores = trabajadores\n",
    "        self.espacios_de_trabajo = 15\n",
    "\n",
    "    @property\n",
    "    def numero_trabajadores(self):\n",
    "        return self.__numero_trabajadores\n",
    "\n",
    "    @numero_trabajadores.setter\n",
    "    def numero_trabajadores(self, valor):\n",
    "        if valor > self.espacios_de_trabajo:\n",
    "            print(\"AVISO! Estás tratando de contratar más personas de las permitidas\")\n",
    "            print(\"No podremos aceptar las contrataciones.\")\n",
    "        elif valor < 0:\n",
    "            print(\"AVISO! No puedes tener un n° de trabajadores negativo\")\n",
    "            self.__numero_trabajadores = 0\n",
    "        else:\n",
    "            self.__numero_trabajadores = valor\n",
    "\n",
    "    def contratar_trabjador(self, cantidad):\n",
    "        self.numero_trabajadores += cantidad\n",
    "        print(f\"Actualmente hay {self.numero_trabajadores} trabajadores en la empresa\")\n",
    "\n",
    "    def despedir_trabajador(self, cantidad):\n",
    "        self.numero_trabajadores -= cantidad\n",
    "        print(f\"Actualmente hay {self.numero_trabajadores} trabajadores en la empresa\")"
   ]
  },
  {
   "cell_type": "code",
   "execution_count": null,
   "metadata": {
    "slideshow": {
     "slide_type": "subslide"
    }
   },
   "outputs": [],
   "source": [
    "dcchocolateria = Empresa(4)\n",
    "dcchocolateria.contratar_trabjador(3)\n",
    "print(\"-\" * 45)\n",
    "dcchocolateria.despedir_trabajador(7)\n",
    "print(\"-\" * 45)\n",
    "dcchocolateria.despedir_trabajador(1)"
   ]
  },
  {
   "cell_type": "markdown",
   "metadata": {
    "slideshow": {
     "slide_type": "subslide"
    }
   },
   "source": [
    "Ahora es importante entender bien el funcionamiento del getter y setter, para que en un futuro no tengamos errores en nuestros programa."
   ]
  },
  {
   "cell_type": "markdown",
   "metadata": {
    "slideshow": {
     "slide_type": "subslide"
    }
   },
   "source": [
    "![Imagen1](img/imagen11.jpg)"
   ]
  },
  {
   "cell_type": "markdown",
   "metadata": {
    "slideshow": {
     "slide_type": "subslide"
    }
   },
   "source": [
    "Luego, al ejecutar el método cotratar ocurre lo siguiente"
   ]
  },
  {
   "cell_type": "markdown",
   "metadata": {
    "slideshow": {
     "slide_type": "subslide"
    }
   },
   "source": [
    "![Imagen2](img/imagen22.JPG)"
   ]
  },
  {
   "cell_type": "markdown",
   "metadata": {
    "slideshow": {
     "slide_type": "subslide"
    }
   },
   "source": [
    "Entonces, el programa lee primero que valor  esta almacenado en `self.trabajadores`, representado por **1**,<> por lo que aquí se ejecuta el getter y obtener el valor de la variable declarada en el inicializador. "
   ]
  },
  {
   "cell_type": "markdown",
   "metadata": {
    "slideshow": {
     "slide_type": "subslide"
    }
   },
   "source": [
    "Como deseamos alterar el valor de la variable, al estar sobreescribiendo su valor, el programa ejecutará el setter y lo que se encuentra al lado derecho del igual, representado por el **2**, corresponde a el valor que se le entrega al setter, en este caso *valor*."
   ]
  },
  {
   "cell_type": "markdown",
   "metadata": {
    "slideshow": {
     "slide_type": "slide"
    }
   },
   "source": [
    "# Herencia"
   ]
  },
  {
   "cell_type": "markdown",
   "metadata": {
    "slideshow": {
     "slide_type": "subslide"
    }
   },
   "source": [
    "La herencia es una característica de OOP que permite relaciones de generalización y especialización entre clases. Gracias a la herencia, una clase puede heredar propiedades, métodos y atributos de otra, y nos permite ahorrar código!"
   ]
  },
  {
   "cell_type": "code",
   "execution_count": null,
   "metadata": {
    "slideshow": {
     "slide_type": "subslide"
    }
   },
   "outputs": [],
   "source": [
    "class Ciudad():\n",
    "\n",
    "    def __init__(self, nombre, distancia, costo, popularidad):\n",
    "        self.nombre = nombre\n",
    "        self.distancia = distancia\n",
    "        self.costo = costo\n",
    "        self.popularidad = popularidad\n",
    "    \n",
    "    def viajar(self):\n",
    "        if self.popularidad == \"alta\":\n",
    "            print(f\"Prefiere viajar a {self.nombre} en temporada baja\")\n",
    "        else:\n",
    "            print(f\"Puedes viajar a {self.nombre} cuando quieras\")"
   ]
  },
  {
   "cell_type": "markdown",
   "metadata": {
    "slideshow": {
     "slide_type": "subslide"
    }
   },
   "source": [
    "Podemos usar de ejemplo a Paris y a Nueva York, ambas son ciudades, lo que las hace objetos similares, pero al mismo tiempo tienen diferencias entre si, como lugares que visitar."
   ]
  },
  {
   "cell_type": "code",
   "execution_count": null,
   "metadata": {
    "slideshow": {
     "slide_type": "subslide"
    }
   },
   "outputs": [],
   "source": [
    "class Paris(Ciudad):\n",
    "    def __init__(self, nombre, distancia, costo, popularidad):\n",
    "        super().__init__(nombre, distancia,costo, popularidad)\n",
    "\n",
    "    def visitar_torre_eiffel(self):\n",
    "        print(\"Solo aqui puedo ver la Torre Eiffel!!\")\n",
    "\n",
    "class NYC(Ciudad):\n",
    "    def __init__(self, nombre, distancia, costo, popularidad):\n",
    "        super().__init__(nombre, distancia,costo, popularidad)\n",
    "\n",
    "    def visitar_empire_state(self):\n",
    "        print(\"Solo aqui puedo ver el Empire State!!!\")"
   ]
  },
  {
   "cell_type": "markdown",
   "metadata": {
    "slideshow": {
     "slide_type": "subslide"
    }
   },
   "source": [
    "Aquí creamos 2 ciudades que son similares pero diferentes, ambas tienen los mismos atributos, pero tienen métodos diferentes."
   ]
  },
  {
   "cell_type": "code",
   "execution_count": null,
   "metadata": {
    "slideshow": {
     "slide_type": "subslide"
    }
   },
   "outputs": [],
   "source": [
    "ciudad_paris = Paris(\"Paris\", 11649, \"alto\", \"alta\")\n",
    "ciudad_nyc = NYC(\"Nueva York\", 8248, \"alto\", \"alta\")\n",
    "\n",
    "ciudad_paris.visitar_torre_eiffel()\n",
    "\n",
    "ciudad_nyc.visitar_empire_state()"
   ]
  },
  {
   "cell_type": "markdown",
   "metadata": {
    "slideshow": {
     "slide_type": "subslide"
    }
   },
   "source": [
    "En este caso, la superclase es Ciudad, y las subclases son Paris y NYC."
   ]
  },
  {
   "cell_type": "markdown",
   "metadata": {
    "slideshow": {
     "slide_type": "slide"
    }
   },
   "source": [
    "# Polimorfismo"
   ]
  },
  {
   "cell_type": "markdown",
   "metadata": {
    "slideshow": {
     "slide_type": "subslide"
    }
   },
   "source": [
    "Para poder proveer de polimorfismo a nuestro programa, se utilizan dos mecánismos:"
   ]
  },
  {
   "cell_type": "markdown",
   "metadata": {
    "slideshow": {
     "slide_type": "subslide"
    }
   },
   "source": [
    "## Overriding"
   ]
  },
  {
   "cell_type": "markdown",
   "metadata": {
    "slideshow": {
     "slide_type": "subslide"
    }
   },
   "source": [
    "Nos permite sobrescribir los métodos declarados en la super clase, lo cual nos será de mucha ayuda cuando tenemos varias clases que heredan de una y tienen un método que varía en función de la subclase en la que estemos. "
   ]
  },
  {
   "cell_type": "markdown",
   "metadata": {
    "slideshow": {
     "slide_type": "subslide"
    }
   },
   "source": [
    "Tomando en cuenta el ejemplo de la ciudad, tenemos que:"
   ]
  },
  {
   "cell_type": "code",
   "execution_count": null,
   "metadata": {
    "slideshow": {
     "slide_type": "subslide"
    }
   },
   "outputs": [],
   "source": [
    "class Paris(Ciudad):\n",
    "\n",
    "    def __init__(self, nombre, distancia, costo, popularidad):\n",
    "        super().__init__(nombre, distancia,costo, popularidad)\n",
    "\n",
    "    def viajar(self):\n",
    "        super().viajar()\n",
    "        print(\"oh la la\")\n",
    "\n",
    "class NYC(Ciudad):\n",
    "\n",
    "    def __init__(self, nombre, distancia, costo, popularidad):\n",
    "        super().__init__(nombre, distancia,costo, popularidad)\n",
    "    \n",
    "    def viajar(self):\n",
    "        super().viajar()\n",
    "        print(\"the city that never sleeps\")"
   ]
  },
  {
   "cell_type": "code",
   "execution_count": null,
   "metadata": {
    "slideshow": {
     "slide_type": "subslide"
    }
   },
   "outputs": [],
   "source": [
    "ciudad_paris = Paris(\"Paris\", 11649, \"alto\", \"alta\")\n",
    "ciudad_nyc = NYC(\"Nueva York\", 8248, \"alto\", \"alta\")\n",
    "\n",
    "ciudad_paris.viajar()\n",
    "ciudad_nyc.viajar()"
   ]
  },
  {
   "cell_type": "markdown",
   "metadata": {
    "slideshow": {
     "slide_type": "subslide"
    }
   },
   "source": [
    "## Overloading"
   ]
  },
  {
   "cell_type": "markdown",
   "metadata": {
    "slideshow": {
     "slide_type": "subslide"
    }
   },
   "source": [
    " Es la capacidad de definir un método o función con el mismo nombre pero con distinto número y tipo de argumentos. Sin embargo, en Python no es posible hacerlas explicitamente, pero los built-in de Python, como `__lt__`, `__gt__`, los cuales permiten comparar objetos."
   ]
  },
  {
   "cell_type": "markdown",
   "metadata": {
    "slideshow": {
     "slide_type": "subslide"
    }
   },
   "source": [
    "### Y ahora una duda que quizás les quedo de Intro"
   ]
  },
  {
   "cell_type": "markdown",
   "metadata": {
    "slideshow": {
     "slide_type": "subslide"
    }
   },
   "source": [
    "### ¿Saben la diferencia entre `__str__` y `__repr__`?"
   ]
  },
  {
   "cell_type": "markdown",
   "metadata": {
    "slideshow": {
     "slide_type": "subslide"
    }
   },
   "source": [
    "La diferencia más sustancial que existe entre ambos es el objetivo de utilizarlos. El `__str__` nos permite tener una representación legible del objeto al hacer print. Por otra parte, `__repr__`entrega una explicación completa del objeto, comunmente enfocado hacia los desarrolladores y no el usuario."
   ]
  },
  {
   "cell_type": "code",
   "execution_count": null,
   "metadata": {
    "slideshow": {
     "slide_type": "subslide"
    }
   },
   "outputs": [],
   "source": [
    "class Complejo:\n",
    "\n",
    "    def __init__(self, real, imag):\n",
    "        self.real = real\n",
    "        self.imag = imag\n",
    "\n",
    "t = Complejo(10, 20)\n",
    "\n",
    "print(t)"
   ]
  },
  {
   "cell_type": "markdown",
   "metadata": {
    "slideshow": {
     "slide_type": "subslide"
    }
   },
   "source": [
    "Como se pueden percatar, el solo hacer print de la instancia de una clase no nos entrega algo de valor, por lo que en algunas siituaciones deseariamos que entregue información que sea de utilidad."
   ]
  },
  {
   "cell_type": "markdown",
   "metadata": {
    "slideshow": {
     "slide_type": "subslide"
    }
   },
   "source": [
    "Para eso hacemos uso de `__str__` y `__repr__`."
   ]
  },
  {
   "cell_type": "code",
   "execution_count": null,
   "metadata": {
    "slideshow": {
     "slide_type": "subslide"
    }
   },
   "outputs": [],
   "source": [
    "class Complejo:\n",
    "\n",
    "    def __init__(self, real, imag):\n",
    "        self.real = real\n",
    "        self.imag = imag\n",
    "\n",
    "    def __repr__(self):\n",
    "        return f\"Racional{self.real, self.imag}\"\n",
    "\n",
    "    def __str__(self):\n",
    "        return f\"{self.real} + {self.imag}i\"\n",
    "\n",
    "numero = Complejo(10, 20)\n",
    "\n",
    "print(str(numero))  \n",
    "print(repr(numero))"
   ]
  },
  {
   "cell_type": "code",
   "execution_count": null,
   "metadata": {
    "slideshow": {
     "slide_type": "subslide"
    }
   },
   "outputs": [],
   "source": [
    "# Si se hace print del objeto, siempre nos mostrará lo que está en el __str__\n",
    "print(numero)"
   ]
  },
  {
   "cell_type": "code",
   "execution_count": null,
   "metadata": {
    "slideshow": {
     "slide_type": "subslide"
    }
   },
   "outputs": [],
   "source": [
    "class Complejo:\n",
    "\n",
    "    def __init__(self, real, imag):\n",
    "        self.real = real\n",
    "        self.imag = imag\n",
    "\n",
    "    def __repr__(self):\n",
    "        return f\"Racional{self.real, self.imag}\"\n",
    "\n",
    "numero = Complejo(10, 20)\n",
    "\n",
    "print(numero)"
   ]
  },
  {
   "cell_type": "markdown",
   "metadata": {
    "slideshow": {
     "slide_type": "subslide"
    }
   },
   "source": [
    "Ahora, si solo tenemos definido el __repr__ y hacemos print, nos imprimirá lo que este definido en ese método."
   ]
  },
  {
   "cell_type": "markdown",
   "metadata": {
    "slideshow": {
     "slide_type": "subslide"
    }
   },
   "source": [
    "Por último, si solo está definido el `__str__`, al hacer print, se imprimirá lo que este en es meétodo."
   ]
  },
  {
   "cell_type": "code",
   "execution_count": null,
   "metadata": {
    "slideshow": {
     "slide_type": "subslide"
    }
   },
   "outputs": [],
   "source": [
    "class Complejo:\n",
    "\n",
    "    def __init__(self, real, imag):\n",
    "        self.real = real\n",
    "        self.imag = imag\n",
    "\n",
    "    def __str__(self):\n",
    "        return f\"{self.real} + {self.imag}i\"\n",
    "\n",
    "numero = Complejo(10, 20)\n",
    "\n",
    "print(numero)"
   ]
  },
  {
   "cell_type": "markdown",
   "metadata": {
    "slideshow": {
     "slide_type": "slide"
    }
   },
   "source": [
    "# Actividad ayudantía 1"
   ]
  },
  {
   "cell_type": "markdown",
   "metadata": {
    "slideshow": {
     "slide_type": "subslide"
    }
   },
   "source": [
    "Se comienzan a acabar las restricciones por el covid 🦠 y los festivales vuelven para quedarse."
   ]
  },
  {
   "cell_type": "markdown",
   "metadata": {
    "slideshow": {
     "slide_type": "subslide"
    }
   },
   "source": [
    "Se necesita de alguien que sepa como funcionan las clases en Python para poder manejar mejor la distribución de artistas en el festival, entre los diferentes escenarios que habrán disponibles."
   ]
  },
  {
   "cell_type": "markdown",
   "metadata": {
    "slideshow": {
     "slide_type": "subslide"
    }
   },
   "source": [
    "Es importante que cada artista este en el escenario que tiene el estilo musical del-la artista, por lo que será necesaria la modelación de las clases: `Festival`, `Stage` y `Artista`, además de algunas subclases."
   ]
  },
  {
   "cell_type": "markdown",
   "metadata": {
    "slideshow": {
     "slide_type": "slide"
    }
   },
   "source": [
    "## Clase Festival"
   ]
  },
  {
   "cell_type": "markdown",
   "metadata": {
    "slideshow": {
     "slide_type": "subslide"
    }
   },
   "source": [
    "El festival debe tener un `nombre`, un aforo máximo `maximo_personas_` y un máximo de stages (escenarios) `maximo_stages` y un atributo con la lista de stages del festival."
   ]
  },
  {
   "cell_type": "markdown",
   "metadata": {
    "slideshow": {
     "slide_type": "subslide"
    }
   },
   "source": [
    "Luego, debe tener el método `agregar_stage`, el que recibe un objeto `Stage`, y debe revisar si existe espacio suficiente en el parque para que se pueda instalar el stage."
   ]
  },
  {
   "cell_type": "code",
   "execution_count": null,
   "metadata": {
    "slideshow": {
     "slide_type": "subslide"
    }
   },
   "outputs": [],
   "source": [
    "from collections import deque\n",
    "from random import randint\n",
    "\n",
    "class Festival():\n",
    "    \n",
    "    def __init__(self, nombre, maximo_personas, maximo_stages):\n",
    "        # Completar\n",
    "        pass\n",
    "\n",
    "    def agregar_stage(self, escenario):\n",
    "        # Completar\n",
    "        pass"
   ]
  },
  {
   "cell_type": "markdown",
   "metadata": {
    "slideshow": {
     "slide_type": "slide"
    }
   },
   "source": [
    "## Clase Stage"
   ]
  },
  {
   "cell_type": "markdown",
   "metadata": {
    "slideshow": {
     "slide_type": "subslide"
    }
   },
   "source": [
    "Un stage debe tener un maximo de artistas que se pueden presentar `maximo`."
   ]
  },
  {
   "cell_type": "markdown",
   "metadata": {
    "slideshow": {
     "slide_type": "subslide"
    }
   },
   "source": [
    "Luego, tendrá dos métodos; `agregar_artista`, el cual se encarga de agregar un artista al stage, sin embargo, a este metodo se le hará overriding, por lo que se explicará mejor más adelante. Como segundo método tenemos `animar_publico`, encargado de imprimir un mensaje a los asistentes."
   ]
  },
  {
   "cell_type": "code",
   "execution_count": null,
   "metadata": {
    "slideshow": {
     "slide_type": "subslide"
    }
   },
   "outputs": [],
   "source": [
    "class Stage():\n",
    "\n",
    "    def __init__(self, maximo):\n",
    "        self.max_artistas = maximo\n",
    "\n",
    "    def agregar_artista(self, artista):\n",
    "        print(\"Agregando artista\")\n",
    "\n",
    "    def animar_publico(self):\n",
    "        print(\"-\" * 55)\n",
    "        print(\"Comienza un nuevo día en Lollapalooza, el Stage está por abrir\")"
   ]
  },
  {
   "cell_type": "markdown",
   "metadata": {
    "slideshow": {
     "slide_type": "subslide"
    }
   },
   "source": [
    "Ya tenemos la posibilidad de crear Stages para el festival, sin embargo, se necesita tener stages específicos según los tipos de artistas que pueden presentarse en el."
   ]
  },
  {
   "cell_type": "markdown",
   "metadata": {
    "slideshow": {
     "slide_type": "subslide"
    }
   },
   "source": [
    "Por esto, es necesario implementar la subclase `IngenieriaStage`, la cual hereda de `Stage` y tiene como atributo un beneficio de energía para los artistas que se presenten, el número de artistas presentados y una cola que permita mantener el orden de salida de los artistas."
   ]
  },
  {
   "cell_type": "markdown",
   "metadata": {
    "slideshow": {
     "slide_type": "subslide"
    }
   },
   "source": [
    "Luego, debes hacer overriding del método `agregar_artista`, el cual recibe un artista, y debe verificar que no se presenten más artistas de los permitidos en el Stage y caso de que queden cupos, agregarlo a la cola.\n",
    "\n",
    "También, se debe implementar el método `animar_publico`, quien debe ejecutar el contenido de la clase padre y además imprimir el nombre de los artistas que se presentan en ese día en el orden que se presentarán.\n",
    "\n",
    "Por último, debes implementar `presentar_artista`, el cual saca al artista de la cola y hace que se implemente, a través del método `presentacion`, que recibe el beneficio del stage."
   ]
  },
  {
   "cell_type": "code",
   "execution_count": null,
   "metadata": {
    "slideshow": {
     "slide_type": "subslide"
    }
   },
   "outputs": [],
   "source": [
    "class IngenieriaStage(Stage):\n",
    "\n",
    "    def __init__(self, maximo):\n",
    "        super().__init__(maximo)\n",
    "        self.beneficio = 5\n",
    "        self.artistas_presentados = 0\n",
    "        self.line_up = deque()\n",
    "\n",
    "    def agregar_artista(self, artista):\n",
    "        # Completar\n",
    "        pass\n",
    "\n",
    "    def animar_publico(self):\n",
    "        # Completar\n",
    "        pass\n",
    "\n",
    "    def presentar_artista(self):\n",
    "        # Completar\n",
    "        pass"
   ]
  },
  {
   "cell_type": "markdown",
   "metadata": {
    "slideshow": {
     "slide_type": "subslide"
    }
   },
   "source": [
    "Ahora es necesario implementar el segundo stage, el `OdontoStage`. Este tiene los mismos métodos del `IngenieriaStage` y además un método propio, el cual es `limpieza_bucal` el cual le suma cuatro a la energía de todos los artistas en la cola."
   ]
  },
  {
   "cell_type": "code",
   "execution_count": null,
   "metadata": {
    "slideshow": {
     "slide_type": "subslide"
    }
   },
   "outputs": [],
   "source": [
    "class OdontoStage(Stage):\n",
    "\n",
    "    def __init__(self, maximo):\n",
    "        super().__init__(maximo)\n",
    "        self.beneficio = 7\n",
    "        self.artistas_presentados = 0\n",
    "        self.line_up = deque()\n",
    "\n",
    "    def agregar_artista(self, artista):\n",
    "        # Completar\n",
    "        pass\n",
    "\n",
    "    def animar_publico(self):\n",
    "        # Completar\n",
    "        pass\n",
    "\n",
    "    def presentar_artista(self):\n",
    "        # Completar\n",
    "        pass\n",
    "\n",
    "    def limpieza_bucal(self):\n",
    "        print(\"Llego la hora del lavado de dientes, chiqui chiqui chi\")\n",
    "        # Completar"
   ]
  },
  {
   "cell_type": "markdown",
   "metadata": {
    "slideshow": {
     "slide_type": "slide"
    }
   },
   "source": [
    "## Clase Artista"
   ]
  },
  {
   "cell_type": "markdown",
   "metadata": {
    "slideshow": {
     "slide_type": "subslide"
    }
   },
   "source": [
    "Por último, se tiene la clase `Artista`, la cual contiene el `nombre` y la `energia` del artista."
   ]
  },
  {
   "cell_type": "markdown",
   "metadata": {
    "slideshow": {
     "slide_type": "subslide"
    }
   },
   "source": [
    "Es muy importante que los artistas tengan energía suficiente para poder realizar su show, de lo contrario no podrán presentarse en el festival 😭. En primer lugar debes verificar que la energía no puede ser menor a cero. Además, en caso de que sú energía este dentro del rango: `0 < energia < 5`, se tomará una bebida energética, lo que hará que su energía aumente en 4. Por último, la energía del artista no puede ser mayor a 50."
   ]
  },
  {
   "cell_type": "markdown",
   "metadata": {
    "slideshow": {
     "slide_type": "subslide"
    }
   },
   "source": [
    "Además, presenta el método `presentacion`, la recibe el beneficio que obtuvo del escenario en que se presenta. Debe obtener a través de randint que tantos aplausos obtuvo el artista al presentarse en el escenatio entre 1 y 10. Si los aplausos son mayor o igual a 5, la energía aumenta en el beneficio y en el caso contrario se le resta el beneficio a la energía."
   ]
  },
  {
   "cell_type": "code",
   "execution_count": null,
   "metadata": {
    "slideshow": {
     "slide_type": "subslide"
    }
   },
   "outputs": [],
   "source": [
    "class Artista():\n",
    "\n",
    "    def __init__(self, energia, nombre):\n",
    "        self.__energia = energia\n",
    "        self.nombre = nombre\n",
    "\n",
    "    # Agregar código necesario\n",
    "\n",
    "    def presentacion(self, beneficio):\n",
    "        print(f\"Que hermoso público, soy {self.nombre}\")\n",
    "        # Completar"
   ]
  },
  {
   "cell_type": "markdown",
   "metadata": {
    "slideshow": {
     "slide_type": "subslide"
    }
   },
   "source": [
    "Existen dos tipos de artistas, los de pop y los de ranchera. Ambos tienen que implementar el presentar de su padre, pedo además tiene su propio grito característico, el cual hacen antes de presentarse."
   ]
  },
  {
   "cell_type": "code",
   "execution_count": null,
   "metadata": {
    "slideshow": {
     "slide_type": "subslide"
    }
   },
   "outputs": [],
   "source": [
    "class ArtistaPop(Artista):\n",
    "\n",
    "    def __init__(self, energia, nombre):\n",
    "        super().__init__(energia, nombre)\n",
    "\n",
    "    def presentacion(self, beneficio):\n",
    "        # Completar\n",
    "        pass\n"
   ]
  },
  {
   "cell_type": "code",
   "execution_count": null,
   "metadata": {
    "slideshow": {
     "slide_type": "subslide"
    }
   },
   "outputs": [],
   "source": [
    "class ArtistaRanchera(Artista):\n",
    "\n",
    "    def __init__(self, energia, nombre):\n",
    "        super().__init__(energia, nombre)\n",
    "\n",
    "    def presentacion(self, beneficio):\n",
    "        # Completar\n",
    "        pass"
   ]
  },
  {
   "cell_type": "code",
   "execution_count": null,
   "metadata": {
    "slideshow": {
     "slide_type": "slide"
    }
   },
   "outputs": [],
   "source": [
    "lollapalooza = Festival(\"Lollapalooza\", 500, 2)\n",
    "stage1 = IngenieriaStage(3)\n",
    "stage2 = OdontoStage(4)\n",
    "\n",
    "artista1 = ArtistaPop(5, 'GatoChico')\n",
    "artista2 = ArtistaPop(7, 'Ian')\n",
    "artista3 = ArtistaPop(13, 'Camilo')\n",
    "\n",
    "lollapalooza.agregar_stage(stage1)\n",
    "lollapalooza.agregar_stage(stage2)\n",
    "\n",
    "stage1.agregar_artista(artista1)\n",
    "stage1.agregar_artista(artista2)\n",
    "stage1.agregar_artista(artista3)\n",
    "stage2.agregar_artista(artista1)\n",
    "stage2.limpieza_bucal()\n",
    "stage1.animar_publico()\n",
    "stage1.presentar_artista()\n",
    "stage1.presentar_artista()"
   ]
  }
 ],
 "metadata": {
  "celltoolbar": "Slideshow",
  "interpreter": {
   "hash": "9cb2d6b9bc3738be7d4dc0ba6b6ed0ba2f7dfb1c018db34bc656efe7b3395122"
  },
  "kernelspec": {
   "display_name": "Python 3 (ipykernel)",
   "language": "python",
   "name": "python3"
  },
  "language_info": {
   "codemirror_mode": {
    "name": "ipython",
    "version": 3
   },
   "file_extension": ".py",
   "mimetype": "text/x-python",
   "name": "python",
   "nbconvert_exporter": "python",
   "pygments_lexer": "ipython3",
   "version": "3.9.10"
  }
 },
 "nbformat": 4,
 "nbformat_minor": 2
}
