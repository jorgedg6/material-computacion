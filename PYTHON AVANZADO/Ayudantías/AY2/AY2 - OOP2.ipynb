{
 "cells": [
  {
   "cell_type": "markdown",
   "metadata": {
    "id": "2BweUKgZgc09"
   },
   "source": [
    "# **Diagrama de clases**\n",
    "\n",
    "Permite la fácil visualización de las clases que componen un programa junto a sus atributos, métodos e interacciones entre ellas. También, ayuda a estructurar el funcionamiento de un programa antes de comenzar a escribir las clases.\n",
    "\n",
    "### **Cómo puedo construir un diagrama de clases?**\n",
    "\n",
    "Todo diagrama de clases se compone tanto de las clases que componen el programa como las relaciones que existen entre ellas.\n",
    "\n",
    "\n",
    "## **Clases**\n",
    "\n",
    "*   Se representan como un rectángulo con tres niveles.\n",
    "\n",
    "![picture](./img/estructura_diagrama_de_clases.png) \n",
    "\n",
    "\n",
    "## **Relaciones**\n",
    "\n",
    "*   Interacciones entre las clases del programa, las más comunes son:\n",
    "\n",
    "### **Herencia**\n",
    "\n",
    "*   Se representa con una flecha de punta vacía que se dirige **de la subclase, a la superclase**.\n",
    "\n",
    "*   Relación en que una **superclase** define un comportamiento base que luego es heredado por una **subclase**.\n",
    "\n",
    "*   La subclase puede definir sus propios métodos y atributos, utilizar los de la **superclase**, o sobreescribir los de la superclase al hacer un *override*.\n",
    "\n",
    "### **Composición**\n",
    "\n",
    "*   Se representa con una flecha que tiene como base un **rombo relleno**. Se dirige **del objeto base, al objeto que se compone**.\n",
    "\n",
    "*   Los objetos de la clase que se crea se construyen a partir de la inclusión de otros elementos que la componen.\n",
    "\n",
    "*   La existencia de los objetos incluidos depende de la existencia del objeto que la compone.\n",
    "\n",
    "### **Agregación**\n",
    "\n",
    "*   Se representa con una flecha que tiene como base un **rombo sin rellenar**. Se dirige **del objeto que agrega, al objeto a agregar**.\n",
    "\n",
    "*   Al igual que en composición, la clase que se crea se construye utilizando otros objetos, pero a diferencia de esta, **la existencia del objeto que se agrega no depende de la existencia del objeto que lo agrega**.\n",
    "\n",
    "### **Asociación**\n",
    "\n",
    "* Se representa como una linea simple entre dos objetos\n",
    "\n",
    "* Indica que los dos objetos estan relacionados y realizan acciones segun aspectos del otro. **Pero ningun objeto posee al otro**\n",
    "\n",
    "\n",
    "Tanto para la **composición, la agregación y la asociación** existe una característica que nos ayuda a definirlas de una forma más completa: la **cardinalidad**.\n",
    "\n",
    "## **Cardinalidad**\n",
    "\n",
    "*   Se indica en cada extremo de la relación\n",
    "\n",
    "> Se pueden presentar los siguientes casos\n",
    "\n",
    "*   0 o muchos: 0..*\n",
    "*   1 o muchos: 1..*\n",
    "*   Número fijo: n\n",
    "\n",
    "> Se habla entonces de relaciones:\n",
    "* 1-1\n",
    "* 0..* - 1\n",
    "* 1-n \n",
    "* n-n\n",
    "\n",
    "## **Acoplamiento**\n",
    "\n",
    "El acoplamiento en programación es un concepto que mide la dependecía entre partes o modulos distintos del software. En el caso de las relaciones vistas algunas generan mas dependencia que otras. En orden descendente del acoplamiento que generan es:\n",
    "\n",
    "**Multiherencia** > **Herencia** > **Composición** > **Agregación** > **Asociación** \n",
    "\n",
    "Recomendamos fuertemente no utilizar Multiherencia, excepto en casos en que sea estrictamente necesario.\n",
    "\n",
    "\n",
    "\n",
    "## **Ejemplos**\n",
    "\n",
    "<img src=\"./img/relaciones_oop.png\"></img>  \n",
    "\n",
    "\n",
    "<img src=\"./img/ejemplo_diagrama_de_clases.png\" width=600></img>\n",
    "\n",
    "\n",
    "\n",
    "\n",
    "\n",
    "\n",
    "\n",
    "\n",
    "\n",
    "\n",
    "\n",
    "\n"
   ]
  },
  {
   "cell_type": "markdown",
   "metadata": {
    "id": "xgrqu70shfXO"
   },
   "source": [
    "## **Clases abstractas**\n",
    "\n",
    "Clases que **no pueden ser instanciadas** y tienen como propósito modelar el comportamiento base de un sistema, para luego ser heredadas por clases específicas.\n",
    "\n",
    "A diferencia de heredar de una clase **no abstracta**, al utilizar una clase padre abstracta se pueden especificar métodos y propiedades que **obligatoriamente deben** ser implementadas en la clase que hereda. A estos se les llama *abstractmethod* y *abstractproperty* respectivamente.\n",
    "\n",
    "## **Cuándo conviene utilizar una clase abstracta?**\n",
    "\n",
    "El mejor uso para una clase abstracta es para definir el comportamiento base de una familia de clases que comparten cierta lógica en sus atributos y métodos.\n",
    "La clase abstracta actúa como un \"plano\", que contiene todas las características en común de esta familia de clases. Al utilizar clases abstractas, se reduce el *boilerplate* (código repetitivo), se facilita la refactorización de las clases y permite realizar cambios sin romper la implementación actual del sistema.\n",
    "\n",
    "## **Ejemplos**\n",
    "<img src=\"./img/multiple_inheritance.png\" width=600></img>"
   ]
  },
  {
   "cell_type": "markdown",
   "metadata": {
    "id": "KAsnA9qsz0Bm"
   },
   "source": [
    "## **Cómo creo una clase abstracta?**\n",
    "\n",
    "El base al ejemplo anterior, crearemos la clase abstracta ``Vehiculo``."
   ]
  },
  {
   "cell_type": "code",
   "execution_count": null,
   "metadata": {
    "id": "1HoZ6Tcaf-Xm"
   },
   "outputs": [],
   "source": [
    "from abc import ABC, abstractmethod\n",
    "\n",
    "class Vehiculo(ABC):\n",
    "    def __init__(self, peso, hp, capacidad):\n",
    "        self.peso = peso\n",
    "        self.hp = hp\n",
    "        self.capacidad = capacidad\n",
    "        self.__kilometraje = 0\n",
    "\n",
    "    @property\n",
    "    def kilometraje(self):\n",
    "        return self.__kilometraje\n",
    "\n",
    "    @abstractmethod\n",
    "    def conducir(self, distancia):\n",
    "        self.__kilometraje += distancia"
   ]
  },
  {
   "cell_type": "markdown",
   "metadata": {
    "id": "IOMmKlHM0aDT"
   },
   "source": [
    "Luego, creamos las clases que heredarán de *Vehiculo*, en este caso serán *Moto*, *Auto* y *Camion*."
   ]
  },
  {
   "cell_type": "code",
   "execution_count": null,
   "metadata": {
    "id": "CaEFGTul0qaj"
   },
   "outputs": [],
   "source": [
    "import random\n",
    "import string\n",
    "\n",
    "class Moto(Vehiculo):\n",
    "    def __init__(self, peso, hp, capacidad):\n",
    "        super().__init__(peso, hp, capacidad)\n",
    "        self.ruedas = 2\n",
    "\n",
    "    def conducir(self, distancia):\n",
    "        super().conducir(distancia)\n",
    "        print(f\"La moto condujo {distancia} kilómetros. En total, ha conducido {self.kilometraje} kilómetros.\")\n",
    "\n",
    "\n",
    "class Auto(Vehiculo):\n",
    "    def __init__(self, peso, hp, capacidad):\n",
    "        super().__init__(peso, hp, capacidad)\n",
    "        self.ruedas = 4\n",
    "        self.__patente = self.generar_patente()\n",
    "\n",
    "    @property\n",
    "    def patente(self):\n",
    "        return f\"{self.__patente[0:2]}-{self.__patente[2:4]}-{self.__patente[4:6]}\"\n",
    "\n",
    "    def conducir(self, distancia):\n",
    "        super().conducir(distancia)\n",
    "        print(f\"El auto {self.patente} condujo {distancia} kilómetros. En total, ha conducido {self.kilometraje} kilómetros.\")\n",
    "\n",
    "    def generar_patente(self):\n",
    "        patente = \"\"\n",
    "        for i in range(4):\n",
    "            letra = random.choice(string.ascii_uppercase)\n",
    "            patente += letra\n",
    "\n",
    "        for i in range(2):\n",
    "            numero = random.choice([0,1,2,3,4,5,6,7,8,9])\n",
    "            patente += str(numero)\n",
    "\n",
    "        return patente\n",
    "\n",
    "\n",
    "class Camion(Vehiculo):\n",
    "    def __init__(self, peso, hp, capacidad):\n",
    "        super().__init__(peso, hp, capacidad)\n",
    "        self.ruedas = 6\n",
    "\n",
    "    def conducir(self, distancia):\n",
    "        super().conducir(distancia)\n",
    "        print(f\"El camión condujo {distancia} kilómetros. En total, ha conducido {self.kilometraje} kilómetros.\")"
   ]
  },
  {
   "cell_type": "markdown",
   "metadata": {
    "id": "muTHyqWo0zSK"
   },
   "source": [
    "En el código anterior, las tres clases heredadas añaden un ``print`` personalizado al método heredado ``conducir``. La clase ``Auto`` cuenta con el atributo *patente*, un método que la genera, y una property que nos facilita el formato al momento de consultar su patente.\n",
    "\n",
    "\n"
   ]
  },
  {
   "cell_type": "code",
   "execution_count": null,
   "metadata": {
    "colab": {
     "base_uri": "https://localhost:8080/"
    },
    "id": "PGYrTzzo18Tm",
    "outputId": "0a045e7b-24f1-43ab-a247-4e25869346cf"
   },
   "outputs": [],
   "source": [
    "# Se instancian las clases\n",
    "\n",
    "moto = Moto(500, 200, 1)\n",
    "auto = Auto(2300, 250, 4)\n",
    "camion = Camion(6400, 500, 2)\n",
    "\n",
    "# Testeamos\n",
    "\n",
    "moto.conducir(200)\n",
    "auto.conducir(350)\n",
    "camion.conducir(800)\n",
    "\n",
    "moto.conducir(650)\n",
    "auto.conducir(15)\n",
    "camion.conducir(85)"
   ]
  },
  {
   "cell_type": "markdown",
   "metadata": {
    "id": "zUowBFdl2HGW"
   },
   "source": [
    "Ahora, qué ocurre con el método ``__mro__`` al utilizar clases abstractas?"
   ]
  },
  {
   "cell_type": "code",
   "execution_count": null,
   "metadata": {
    "colab": {
     "base_uri": "https://localhost:8080/"
    },
    "id": "wtLDOHul2QiC",
    "outputId": "1c956194-156a-457b-eb3b-7e0420357954"
   },
   "outputs": [],
   "source": [
    "Auto.__mro__"
   ]
  },
  {
   "cell_type": "markdown",
   "metadata": {
    "id": "hwZ80tH4wn4h"
   },
   "source": [
    "# Multiherencia\n",
    "En python, las clases pueden heredar de más de una clase. Las clases hijas heredan los métodos de ambos padres.\n",
    "\n",
    "Digamos que tenemos el siguiente diagrama de clases:\n",
    "\n",
    "\n",
    "<img src=\"./img/diagrama_clases.png\" width=800></img>\n",
    "Nos centraremos especialmente en:\n",
    "\n",
    "<img src=\"./img/diamante.png\" width=400></img>\n",
    "Veamos el código para este diagrama"
   ]
  },
  {
   "cell_type": "code",
   "execution_count": null,
   "metadata": {
    "id": "g9BsH1EkyHmO"
   },
   "outputs": [],
   "source": [
    "from abc import ABC, abstractmethod\n",
    "\n",
    "class EstudianteUc(ABC):\n",
    "  def __init__(self, nombre, numero_estudiante, semestre_actual):\n",
    "    self.nombre = nombre\n",
    "    self.numero_estudiante = numero_estudiante\n",
    "    self.semestre_actual = semestre_actual\n",
    "\n",
    "  def asistir_clase(self, clase):\n",
    "    print(f\"Asistiendo a la clase de {clase}\")\n",
    "\n",
    "  def procrastinar(self):\n",
    "    print(\"Zzzzzz...\")\n",
    "\n",
    "  @abstractmethod\n",
    "  def ir_a_la_universidad(self):\n",
    "    pass\n",
    "\n",
    "\n",
    "class EstudianteDCC(EstudianteUc):\n",
    "  def __init__(self, nombre, numero_estudiante, semestre_actual, sist_operativo, version_python):\n",
    "    super().__init__(nombre, numero_estudiante, semestre_actual)\n",
    "    self.sist_operativo = sist_operativo\n",
    "    self.version_python = version_python\n",
    "\n",
    "  def programar(self):\n",
    "    print(f\"Programando en python versión {self.version_python}\")\n",
    "\n",
    "  def pasar_de_largo(self):\n",
    "    print(\"No entiendo la multiherencia tocara no dormir...\")\n",
    "\n",
    "  def ir_a_la_universidad(self):\n",
    "    print(\"Yendo al DCC...\")\n",
    "\n",
    "\n",
    "class SeleccionadoPadel(EstudianteUc):\n",
    "\n",
    "  def __init__(self, nombre, numero_estudiante, semestre_actual, tipo_raqueta, partidos_ganados):\n",
    "    super().__init__(nombre, numero_estudiante, semestre_actual)\n",
    "    self.tipo_raqueta = tipo_raqueta\n",
    "    self.partidos_ganados = partidos_ganados\n",
    "\n",
    "  def saque(self):\n",
    "    print(f\"Sacando con mi raqueta de tipo {self.tipo_raqueta}\")\n",
    "\n",
    "  def juego(self, contrincante):\n",
    "    print(f\"Jugando contra {contrincante}\")\n",
    "\n",
    "  def ir_a_la_universidad(self):\n",
    "    print(\"Yendo a las canchas de deporte\")\n",
    "\n",
    "\n",
    "class SeleccionadoPadelDCC(EstudianteDCC, SeleccionadoPadel):\n",
    "\n",
    "  def __init__(self, nombre, numero_estudiante, semestre_actual, sistema_operativo, version_python,\n",
    "        tipo_raqueta, partidos_ganados):\n",
    "    super().__init__(nombre, numero_estudiante, semestre_actual, sistema_operativo, version_python,\n",
    "      tipo_raqueta, partidos_ganados )\n",
    "    \n",
    "  def simular_saque(self):\n",
    "    print(\"Calculando trayectoria...\")"
   ]
  },
  {
   "cell_type": "markdown",
   "metadata": {
    "id": "TVAc_yji8ftf"
   },
   "source": [
    "Tenemos listas nuestras clases. Ahora instanciemos un seleccionado padel del DCC:"
   ]
  },
  {
   "cell_type": "code",
   "execution_count": null,
   "metadata": {
    "colab": {
     "base_uri": "https://localhost:8080/",
     "height": 311
    },
    "id": "l4yosDXU8fVw",
    "outputId": "6b47bdb9-496c-455a-8e57-8eea3a044e83"
   },
   "outputs": [],
   "source": [
    "estudiante = SeleccionadoPadelDCC(\n",
    "    \"Juan\",\n",
    "    \"1234567J\",\n",
    "    4,\n",
    "    \"OSX Monterrey\",\n",
    "    \"3.8.10\",\n",
    "    \"pala de control\",\n",
    "    7\n",
    ")"
   ]
  },
  {
   "cell_type": "markdown",
   "metadata": {
    "id": "FTbSOQBH9csk"
   },
   "source": [
    "Qué pasó? Python nos dice que el ```super().__init__``` que se está llamando al instanciar ```SeleccionadoPadelDCC``` recibe más argumentos de los que debería. Pero, a cual de las clases padre corresponde? Eso lo podemos saber mediante el ```__mro__``` (Method Resolution Order)"
   ]
  },
  {
   "cell_type": "code",
   "execution_count": null,
   "metadata": {
    "colab": {
     "base_uri": "https://localhost:8080/"
    },
    "id": "NnYeFN1R9cLP",
    "outputId": "961ead54-d37c-4669-beb8-20c63bb90ce0"
   },
   "outputs": [],
   "source": [
    "SeleccionadoPadelDCC.__mro__"
   ]
  },
  {
   "cell_type": "markdown",
   "metadata": {
    "id": "0-9MnLD3AZeA"
   },
   "source": [
    "Ya sabemos cual es el padre que se está llamando primero. Ahora podemos pasar el número de argumentos adecuado al ```__init__```. Volvemos a definir la clase ```SeleccionadoPadelDCC```"
   ]
  },
  {
   "cell_type": "code",
   "execution_count": null,
   "metadata": {
    "id": "cBdgGPRPAvgk"
   },
   "outputs": [],
   "source": [
    "class SeleccionadoPadelDCC(EstudianteDCC, SeleccionadoPadel):\n",
    "  def __init__(self, nombre, numero_estudiante, semestre_actual, sistema_operativo, version_python, \n",
    "               tipo_raqueta, partidos_ganados ):\n",
    "    # quitamos los últimos argumentos que nos \"sobraban\"\n",
    "    super().__init__(nombre, numero_estudiante, semestre_actual, sistema_operativo, version_python)\n",
    "    \n",
    "\n",
    "  def simular_saque(self):\n",
    "    print(\"Calculando trayectoria...\")"
   ]
  },
  {
   "cell_type": "markdown",
   "metadata": {
    "id": "1SkbslrYBD_H"
   },
   "source": [
    "Y la instanciamos."
   ]
  },
  {
   "cell_type": "code",
   "execution_count": null,
   "metadata": {
    "colab": {
     "base_uri": "https://localhost:8080/",
     "height": 382
    },
    "id": "GffPbNtUBCma",
    "outputId": "22471d0d-b25c-48ba-a612-ada72f77f52c"
   },
   "outputs": [],
   "source": [
    "estudiante = SeleccionadoPadelDCC(\n",
    "    \"Juan\",\n",
    "    \"1234567J\",\n",
    "    4,\n",
    "    \"OSX Monterrey\",\n",
    "    \"3.8.10\", # Debe ser 3.8.X\n",
    "    \"pala de control\",\n",
    "    7\n",
    ")"
   ]
  },
  {
   "cell_type": "markdown",
   "metadata": {
    "id": "KyLzzZYLBQKT"
   },
   "source": [
    "Aún no funciona! Ahora reclama que le faltan argumentos al ```__init__``` de ```SeleccionadoPadel```, pero no se los podemos pasar de la forma tradicional. La solución está en usar ```*args``` o ```**kwargs```."
   ]
  },
  {
   "cell_type": "markdown",
   "metadata": {
    "id": "bg65h0jFBm3O"
   },
   "source": [
    "## Uso de \\*args y \\**Kwargs"
   ]
  },
  {
   "cell_type": "code",
   "execution_count": null,
   "metadata": {
    "id": "tOxW2VRpBz6m"
   },
   "outputs": [],
   "source": [
    "from abc import ABC, abstractmethod\n",
    "\n",
    "class EstudianteUc(ABC):\n",
    "\n",
    "  def __init__(self, nombre, numero_estudiante, semestre_actual):\n",
    "    self.nombre = nombre\n",
    "    self.numero_estudiante = numero_estudiante\n",
    "    self.semestre_actual = semestre_actual\n",
    "\n",
    "  def asistir_clase(self, clase):\n",
    "    print(f\"Asistiendo a la clase de {clase}\")\n",
    "\n",
    "  def procrastinar(self):\n",
    "    print(\"Zzzzzz...\")\n",
    "\n",
    "  @abstractmethod\n",
    "  def ir_a_la_universidad(self):\n",
    "    pass\n",
    "\n",
    "  @abstractmethod\n",
    "  def pasar_de_largo(self):\n",
    "    pass\n",
    "\n",
    "class EstudianteDCC(EstudianteUc):\n",
    "  def __init__(self, sist_operativo, version_python, *args, **kwargs):\n",
    "    super().__init__(*args, **kwargs)\n",
    "    self.sist_operativo = sist_operativo\n",
    "    self.version_python = version_python\n",
    "\n",
    "  def programar(self):\n",
    "    print(f\"Programando en python versión {self.version_python}\")\n",
    "\n",
    "  def pasar_de_largo(self):\n",
    "    print(\"No entiendo la multiherencia...\")\n",
    "\n",
    "  def ir_a_la_universidad(self):\n",
    "    print(\"Yendo al DCC...\")\n",
    "\n",
    "class SeleccionadoPadel(EstudianteUc):\n",
    "\n",
    "  def __init__(self, tipo_raqueta, partidos_ganados, *args, **kwargs):\n",
    "    super().__init__(*args, **kwargs)\n",
    "    self.tipo_raqueta = tipo_raqueta\n",
    "    self.partidos_ganados = partidos_ganados\n",
    "\n",
    "  def saque(self):\n",
    "    print(f\"Sacando con mi raqueta de tipo {self.tipo_raqueta}\")\n",
    "\n",
    "  def juego(self, contrincante):\n",
    "    print(f\"Jugando contra {contrincante}\")\n",
    "\n",
    "  def ir_a_la_universidad(self):\n",
    "    print(\"Yendo a las canchas de deporte\")\n",
    "\n",
    "\n",
    "class SeleccionadoPadelDCC(EstudianteDCC, SeleccionadoPadel):\n",
    "\n",
    "  def __init__(self, *args, **kwargs):\n",
    "    super().__init__(*args, **kwargs)\n",
    "\n",
    "  def simular_saque(self):\n",
    "    print(\"Calculando trayectoria...\")"
   ]
  },
  {
   "cell_type": "markdown",
   "metadata": {
    "id": "fLLO8J4zCcT0"
   },
   "source": [
    "Ahora sí podemos instanciar a nuestro ```SeleccionadoPadelDCC```, primero lo haremos dandole los argumentos posicionales "
   ]
  },
  {
   "cell_type": "code",
   "execution_count": null,
   "metadata": {
    "colab": {
     "base_uri": "https://localhost:8080/"
    },
    "id": "FqlcF_7NCbU8",
    "outputId": "282efcc7-84ef-4371-defd-d75dae2dd4a5"
   },
   "outputs": [],
   "source": [
    "estudiante = SeleccionadoPadelDCC(\"Juan\", \"1234567J\", 4, \"OSX Monterrey\", \"3.8.10\",\n",
    "    \"pala de control\", 7)\n",
    "\n",
    "estudiante.procrastinar()\n",
    "estudiante.pasar_de_largo()\n",
    "estudiante.saque()"
   ]
  },
  {
   "cell_type": "markdown",
   "metadata": {
    "id": "AvCdG7RfzcrD"
   },
   "source": [
    "Mucho ojo! Es importante el orden en el que se pasan los parametros, y depende del ```__mro__```."
   ]
  },
  {
   "cell_type": "code",
   "execution_count": null,
   "metadata": {
    "colab": {
     "base_uri": "https://localhost:8080/"
    },
    "id": "NoRPuofI0ns_",
    "outputId": "ce57e41f-3b56-4d79-ebe2-7ba1b46f1ce9"
   },
   "outputs": [],
   "source": [
    "SeleccionadoPadelDCC.__mro__"
   ]
  },
  {
   "cell_type": "markdown",
   "metadata": {
    "id": "kekidZ4c0oBZ"
   },
   "source": [
    "\n",
    "Tambien le podemos dar keyword arguments (\\**kwargs)"
   ]
  },
  {
   "cell_type": "code",
   "execution_count": null,
   "metadata": {
    "colab": {
     "base_uri": "https://localhost:8080/"
    },
    "id": "_9AtDkToyhYk",
    "outputId": "4bd439b7-024f-45e4-868b-4951e9811afb"
   },
   "outputs": [],
   "source": [
    "estudiante = SeleccionadoPadelDCC(\n",
    "    nombre=\"Juan\",\n",
    "    numero_estudiante=\"1234567J\",\n",
    "    semestre_actual=4,\n",
    "    sist_operativo=\"OSX Monterrey\",\n",
    "    version_python=\"3.8.10\", # Debe ser 3.8.X\n",
    "    tipo_raqueta=\"pala de control\",\n",
    "    partidos_ganados=7\n",
    ")\n",
    "\n",
    "estudiante.procrastinar()\n",
    "estudiante.pasar_de_largo()\n",
    "estudiante.saque()"
   ]
  },
  {
   "cell_type": "markdown",
   "metadata": {
    "id": "15RuNG_XDjl4"
   },
   "source": [
    "## Problema del diamante\n",
    "\n",
    "Recordemos que ```EstudianteDCC``` y ```SeleccionadoPadel``` implementan ```ir_a_la_universidad```, pero ```SeleccionadoPadelDCC``` no lo implementa. Esto se puede simplificar en el siguiente diagrama:\n",
    "<img src=\"./img/diamante_2.png\" width=400></img>\n"
   ]
  },
  {
   "cell_type": "markdown",
   "metadata": {
    "id": "zkbjE62M0p0h"
   },
   "source": [
    "Sin embargo, nuestro seleccionado padel del DCC quiere ir a la universidad. Veamos qué pasa:"
   ]
  },
  {
   "cell_type": "code",
   "execution_count": null,
   "metadata": {
    "colab": {
     "base_uri": "https://localhost:8080/"
    },
    "id": "3YxyV4POEEtT",
    "outputId": "9816942b-267f-4d29-fb4c-1035ee1d8513"
   },
   "outputs": [],
   "source": [
    "estudiante.ir_a_la_universidad()"
   ]
  },
  {
   "cell_type": "markdown",
   "metadata": {
    "id": "ER1JTcZJEJHb"
   },
   "source": [
    "El estudiante fue al DCC, y no a la cancha de deporte a jugar padel. Es decir, usó el método del primer padre, y no del segundo."
   ]
  },
  {
   "cell_type": "markdown",
   "metadata": {
    "id": "tQjN97kZ02fo"
   },
   "source": [
    "Esto sucede por que Python le da mayor preferencia a una de las clases padres. Particularmente las que van a la izquierda:\n",
    "\n",
    "```Hija(MayorPreferencia, MediaPreferencia, UltimaPreferencia)```\n",
    "\n",
    "Si recordamos nuestro seleccionado padel se define de la siguiente forma:\n",
    "\n",
    "```SeleccionadoPadelDCC(EstudianteDCC, SeleccionadoPadel)```\n",
    "\n",
    "Por lo que la preferencia se la dara a la superclase ```EstudianteDCC```. esto se puede comprobar usando ```__mro__```"
   ]
  },
  {
   "cell_type": "code",
   "execution_count": null,
   "metadata": {
    "colab": {
     "base_uri": "https://localhost:8080/"
    },
    "id": "jugIoEYS2FA4",
    "outputId": "2e6d1c8d-0559-48ad-fdc0-e80ab7c7169c"
   },
   "outputs": [],
   "source": [
    "SeleccionadoPadelDCC.__mro__"
   ]
  },
  {
   "cell_type": "markdown",
   "metadata": {
    "id": "ZWQ_0ds1FeUv"
   },
   "source": [
    "Python entonces buscará en orden en todas las clases del ```__mro__``` y el llamará el método en la primera que tenga el método definido. Como el metodo no esta definido en ```SeleccionadoPadelDCC``` ira al segundo en orden y llamara al metodo de ```EstudianteDCC```. Si se quiere cambiar la prioridad en la resolución de métodos, se puede cambiar el orden de la herencia:"
   ]
  },
  {
   "cell_type": "code",
   "execution_count": null,
   "metadata": {
    "colab": {
     "base_uri": "https://localhost:8080/"
    },
    "id": "-wm6D0Jyy0UP",
    "outputId": "476819bb-2aa3-4abc-f354-b926ababe987"
   },
   "outputs": [],
   "source": [
    "class SeleccionadoPadelDCC(SeleccionadoPadel, EstudianteDCC):\n",
    "\n",
    "  def __init__(self, *args, **kwargs):\n",
    "    super().__init__(*args, **kwargs)\n",
    "\n",
    "  def simular_saque(self):\n",
    "    print(\"Calculando trayectoria...\")\n",
    "\n",
    "estudiante = SeleccionadoPadelDCC(\n",
    "    nombre=\"Juan\",\n",
    "    numero_estudiante=\"1234567J\",\n",
    "    semestre_actual=4,\n",
    "    sist_operativo=\"OSX Monterrey\",\n",
    "    version_python=\"3.8.10\", # Debe ser 3.8.X\n",
    "    tipo_raqueta=\"pala de control\",\n",
    "    partidos_ganados=7\n",
    ")\n",
    "\n",
    "estudiante.ir_a_la_universidad()"
   ]
  },
  {
   "cell_type": "markdown",
   "metadata": {
    "id": "mUzlOIPrrFuv"
   },
   "source": [
    "## EJERCICIO : **Minando en la DCCueva**\n",
    "\n",
    "El aumento de estudiantes del DCC ha provocado que el departamento se haya quedado sin salas para impartir sus cursos. Es por esto que el DCC ha entrado en una fase expancionista y ya prepara la guerra (al estilo Age of Empires) contra los demas departamentos de la escuela de Ingeniería, todo por el control de las salas del campus. Pero antes de embarcarse en una conquista belica, primero debe asegurarse de contar con el oro suficiente para construir edificios y unidades. La principal fuente de oro del departamento es la vieja mina de datos que se encuentra en la DCCueva, para ver cuanto oro se puede generar se decidio realizar una simulación.\n",
    "  \n",
    "### Diagrama\n",
    "  \n",
    "La DCCueva cuenta con una serie de robots cuyo funcionamiento puede ser modelado por Objetos, Tu trabajo es definir las clases y herencias entre estos robots para que la simulacion pueda ser llevada a cabo. El diagrama de Clases es el siguiente:\n",
    "\n",
    "\n",
    "<img src=\"./img/dcc_mina.png\" width=500></img>\n",
    "\n"
   ]
  },
  {
   "cell_type": "markdown",
   "metadata": {
    "id": "YeIOZytx-ATV"
   },
   "source": [
    "### Manos a la Obra:\n",
    "\n",
    "Antes que todo es necesario modelar al Robot base del que heradaran los otros, debes hacerlo abstracto, y hacer que ```setear_atributos()``` y ```trabajar()```sean metodos abstractos:"
   ]
  },
  {
   "cell_type": "code",
   "execution_count": 2,
   "metadata": {
    "id": "a-BsA1ul-JRt"
   },
   "outputs": [],
   "source": [
    "from abc import ABC, abstractmethod\n",
    "from random import randint\n",
    "\n",
    "class Robot:\n",
    "\n",
    "    def __init__(self, nombre, version_python, *args, **kwargs):\n",
    "        pass\n",
    "\n",
    "    def setear_atributos(self):\n",
    "        pass\n",
    "\n",
    "    def trabajar(self):\n",
    "        pass"
   ]
  },
  {
   "cell_type": "markdown",
   "metadata": {
    "id": "36jToQSy-l4f"
   },
   "source": [
    "Lo primero es definir el ```RobotMinero``` el cual es el encargado de mianr los datos de la DCCueva. Este hereda de ```Robot```, ademas debes completar el ```__init__``` del minero y llamar al inicializador de la superclase. Ten en cuenta que este ultimo corre el metodo ```setear_atributos()```, por lo que debes declarar los atributos antes del ```super().__init__()```."
   ]
  },
  {
   "cell_type": "code",
   "execution_count": 3,
   "metadata": {
    "id": "apfrSlZy--2E"
   },
   "outputs": [],
   "source": [
    "class RobotMinero:\n",
    "\n",
    "    # faltan los los argumentos !\n",
    "    def __init__(self, nucleos, pala_diamante,):\n",
    "        pass\n",
    "    \n",
    "    def setear_atributos(self):\n",
    "        self.velocidad = randint(0,50)\n",
    "        self.potencia = int(self.version_python * self.nucleos)\n",
    "        if self.pala_diamante:\n",
    "            self.productividad = 3 * (self.velocidad + (self.potencia * 2))\n",
    "        else:\n",
    "            self.productividad = (self.velocidad + (self.potencia * 2))\n",
    "\n",
    "    def trabajar(self):\n",
    "        horas_trabajadas = randint(2, 8)\n",
    "        datos = self.productividad * horas_trabajadas\n",
    "        print(f\"ROBOT MINERO {self.nombre}: Ha minado {datos} datos\")\n",
    "        return datos"
   ]
  },
  {
   "cell_type": "markdown",
   "metadata": {
    "id": "lSohN29dAzTg"
   },
   "source": [
    "El segundo es el ```RobotTransporte``` el cual se encarga de multiplicar y transportar los datos hasta el deposito donde son transmutados en monedas de oro, lamentablemente este pierde algunos datos en el transporte, ten en cuenta que:\n",
    "* Este hereda de ```Robot``` y al igual que antes debes completar su inicializador, con la misma precaucion con sus atributos. \n",
    "* Ademas en ```setear_atributos``` debes definir el atributo ```perdida promedio```con la siguiente formula para despues convertirlo a entero:\n",
    "\n",
    "    - ```randint(10, 25) + version_python * 2```"
   ]
  },
  {
   "cell_type": "code",
   "execution_count": 4,
   "metadata": {
    "id": "zSiBCyGkBTxN"
   },
   "outputs": [],
   "source": [
    "class RobotTransporte(Robot):\n",
    "\n",
    "    def __init__(self, carros, *args, **kwargs):\n",
    "        pass\n",
    "\n",
    "    def setear_atributos(self):\n",
    "        pass\n",
    "    \n",
    "    def trabajar(self, datos):\n",
    "        transferidos = (datos - self.perdida_promedio) * self.carros\n",
    "        print(f\"ROBOT TRANSPORTE {self.nombre}: Multiplicando... \" +\n",
    "               f\"y transportando {transferidos} datos\")\n",
    "        return transferidos"
   ]
  },
  {
   "cell_type": "markdown",
   "metadata": {
    "id": "m_Jts6g6CswW"
   },
   "source": [
    "Ademas el DCC cuenta con el flamante ```RobotMultiple``` que puede minar datos para luego multiplicarlos y transportarlos hasta el deposito, como si fuera poco esta maquina no pierde datos en la transferencia. Tu deber es:\n",
    "* que herede de ```RobotMinero``` y  ```RobotTransporte```\n",
    "* Completar el inicializador\n",
    "* en ```setear_atributos``` debes llamar a este mismo metodo pero el que pertenece a la superclase ```RobotMinero```, recuerda pasarle un ```self```\n"
   ]
  },
  {
   "cell_type": "code",
   "execution_count": 5,
   "metadata": {
    "id": "T2ReEKOgDWQW"
   },
   "outputs": [
    {
     "ename": "IndentationError",
     "evalue": "expected an indented block (2394348932.py, line 6)",
     "output_type": "error",
     "traceback": [
      "\u001b[0;36m  Input \u001b[0;32mIn [5]\u001b[0;36m\u001b[0m\n\u001b[0;31m    def setear_atributos(self):\u001b[0m\n\u001b[0m    ^\u001b[0m\n\u001b[0;31mIndentationError\u001b[0m\u001b[0;31m:\u001b[0m expected an indented block\n"
     ]
    }
   ],
   "source": [
    "class RobotMultiple:\n",
    "    \n",
    "    # Recuerda los argumentos !\n",
    "    def __init__(self,):\n",
    "    \n",
    "    def setear_atributos(self):\n",
    "        # no tiene perdida\n",
    "    \n",
    "    def trabajar(self):\n",
    "        horas_trabajadas = randint(2, 8)\n",
    "        datos = self.productividad * horas_trabajadas\n",
    "        print(f\"ROBOT MULTIPLE {self.nombre}: Ha minado {datos} datos\")\n",
    "        transferidos = (datos * self.carros)\n",
    "        print(f\"ROBOT MULTIPLE {self.nombre}: Multiplicando... \" +\n",
    "              f\"y transportando {transferidos} datos\")\n",
    "        return transferidos"
   ]
  },
  {
   "cell_type": "markdown",
   "metadata": {
    "id": "ujxKxib_Dk9o"
   },
   "source": [
    "Finalmente el robot responsable de convertir los datos en oro, el ```GoldenRobot```. Para completarlo debes:\n",
    "* Que herede de ```Robot```\n",
    "* completar el ```__init__```, con el cuidado de definir los atributos antes de llamar al inicializador de la superclase\n",
    "* completar ```setear_atributos()``` con:\n",
    "  - oxidacion = entero aleatorio entre 50 y 150\n",
    "  - productividad = numero entero calculado con \n",
    "  ```(version_python * kilates) / 2```\n",
    "* en ```trabajar(datos)``` debes calcular el oro (entero) y retornarlo, la formula para hacer esto es:\n",
    "  - ```datos * factor_conversion) + productividad```"
   ]
  },
  {
   "cell_type": "code",
   "execution_count": null,
   "metadata": {
    "id": "2GDqEbR-E1Ul"
   },
   "outputs": [],
   "source": [
    "class GoldenRobot:\n",
    "\n",
    "    def __init__(self, factor_conversion, kilates, *args, **kwargs):\n",
    "        pass\n",
    "\n",
    "    def setear_atributos(self):\n",
    "        pass\n",
    "    \n",
    "    def trabajar(self, datos):\n",
    "        oro = int(datos * self.factor_conversion) + self.productividad\n",
    "        print(f\"GOLDEN ROBOT {self.nombre}: Ha transformado \" +\n",
    "              f\"{datos} datos a {oro} monedas de oro\")\n",
    "        return oro"
   ]
  },
  {
   "cell_type": "markdown",
   "metadata": {
    "id": "7L3u-LT2GTi4"
   },
   "source": [
    "Finalmente solo falta modelar la simulacion en una clase."
   ]
  },
  {
   "cell_type": "code",
   "execution_count": null,
   "metadata": {
    "id": "ADhbH7rxG5-V"
   },
   "outputs": [],
   "source": [
    "class DccMina:\n",
    "\n",
    "    def __init__(self, diccionario_robots, dias):\n",
    "        self.robots = diccionario_robots\n",
    "        self.oro_total = 0\n",
    "        self.datos_totales = 0\n",
    "        self.dia_actual = 0\n",
    "        self.dias_maximo = dias\n",
    "\n",
    "    def simulacion(self):\n",
    "        print(\"*\" * 60)\n",
    "        print(\" SIMULANDO MINERIA DE DATOS \".center(60, \"*\"))\n",
    "        print(\"*\" * 60 + \"\\n\")\n",
    "\n",
    "        while self.dias_maximo >= self.dia_actual:\n",
    "            print(\"\\n\" + f\" Dia: {self.dia_actual} \".center(60, \"-\") + \"\\n\")\n",
    "            datos = 0\n",
    "            # mineros\n",
    "            for minero in self.robots[\"Minero\"]:\n",
    "                datos += minero.trabajar()\n",
    "            # transporte\n",
    "            transferidos = self.robots[\"Transporte\"].trabajar(datos)\n",
    "            # transporte minero\n",
    "            transferidos += self.robots[\"Multiple\"].trabajar()\n",
    "            self.datos_totales += transferidos\n",
    "            # golden\n",
    "            oro = self.robots[\"Golden\"].trabajar(transferidos)\n",
    "            self.oro_total += oro\n",
    "\n",
    "            print(f\"\\nDATOS DEL DIA {self.dia_actual}:\")\n",
    "            print(f\"DATOS MINADOS: {transferidos}\")\n",
    "            print(f\"ORO OBTENIDO : {oro}\\n\")\n",
    "\n",
    "            self.dia_actual += 1\n",
    "\n",
    "        print(\"*\" * 61)\n",
    "        frase = \"ESTADISTICAS DE LA SIMULACION MINERA EN\"\n",
    "        print(f\" {frase} {self.dias_maximo} DIAS \".center(61, \"*\"))\n",
    "        print(\"*\" * 61 + \"\\n\")\n",
    "        print(f\"DATOS MINADOS: {self.datos_totales}\")\n",
    "        print(f\"ORO OBTENIDO : {self.oro_total}\\n\")"
   ]
  },
  {
   "cell_type": "markdown",
   "metadata": {
    "id": "QlCKSstFKcb7"
   },
   "source": [
    " Tenemos todo listo para simular y minar en la DCCueva. En el futuro veremos los resultados expancionistas del Departamento de Ciencias de la Computacion..."
   ]
  },
  {
   "cell_type": "code",
   "execution_count": 1,
   "metadata": {
    "id": "PwPNZVs2KWfd"
   },
   "outputs": [
    {
     "ename": "NameError",
     "evalue": "name 'RobotMinero' is not defined",
     "output_type": "error",
     "traceback": [
      "\u001b[0;31m---------------------------------------------------------------------------\u001b[0m",
      "\u001b[0;31mNameError\u001b[0m                                 Traceback (most recent call last)",
      "Input \u001b[0;32mIn [1]\u001b[0m, in \u001b[0;36m<cell line: 1>\u001b[0;34m()\u001b[0m\n\u001b[0;32m----> 1\u001b[0m mineros \u001b[38;5;241m=\u001b[39m [\u001b[43mRobotMinero\u001b[49m(nombre\u001b[38;5;241m=\u001b[39m\u001b[38;5;124m\"\u001b[39m\u001b[38;5;124mJul-IO\u001b[39m\u001b[38;5;124m\"\u001b[39m,\n\u001b[1;32m      2\u001b[0m                        version_python\u001b[38;5;241m=\u001b[39m\u001b[38;5;241m3.5\u001b[39m,\n\u001b[1;32m      3\u001b[0m                        nucleos\u001b[38;5;241m=\u001b[39m\u001b[38;5;241m1\u001b[39m,\n\u001b[1;32m      4\u001b[0m                        pala_diamante\u001b[38;5;241m=\u001b[39m\u001b[38;5;28;01mTrue\u001b[39;00m),\n\u001b[1;32m      5\u001b[0m            RobotMinero(nombre\u001b[38;5;241m=\u001b[39m\u001b[38;5;124m\"\u001b[39m\u001b[38;5;124mJul-IAn\u001b[39m\u001b[38;5;124m\"\u001b[39m,\n\u001b[1;32m      6\u001b[0m                        version_python\u001b[38;5;241m=\u001b[39m\u001b[38;5;241m3.8\u001b[39m,\n\u001b[1;32m      7\u001b[0m                        nucleos\u001b[38;5;241m=\u001b[39m\u001b[38;5;241m2\u001b[39m,\n\u001b[1;32m      8\u001b[0m                        pala_diamante\u001b[38;5;241m=\u001b[39m\u001b[38;5;28;01mFalse\u001b[39;00m),\n\u001b[1;32m      9\u001b[0m            RobotMinero(nombre\u001b[38;5;241m=\u001b[39m\u001b[38;5;124m\"\u001b[39m\u001b[38;5;124mAlon-S0\u001b[39m\u001b[38;5;124m\"\u001b[39m,\n\u001b[1;32m     10\u001b[0m                        version_python\u001b[38;5;241m=\u001b[39m\u001b[38;5;241m3.8\u001b[39m,\n\u001b[1;32m     11\u001b[0m                        nucleos\u001b[38;5;241m=\u001b[39m\u001b[38;5;241m3\u001b[39m,\n\u001b[1;32m     12\u001b[0m                        pala_diamante\u001b[38;5;241m=\u001b[39m\u001b[38;5;28;01mFalse\u001b[39;00m)]\n\u001b[1;32m     14\u001b[0m transporte \u001b[38;5;241m=\u001b[39m RobotTransporte(nombre\u001b[38;5;241m=\u001b[39m\u001b[38;5;124m\"\u001b[39m\u001b[38;5;124mMat-IAS\u001b[39m\u001b[38;5;124m\"\u001b[39m,\n\u001b[1;32m     15\u001b[0m                              version_python\u001b[38;5;241m=\u001b[39m\u001b[38;5;241m3.10\u001b[39m,\n\u001b[1;32m     16\u001b[0m                              carros\u001b[38;5;241m=\u001b[39m\u001b[38;5;241m3\u001b[39m)\n\u001b[1;32m     18\u001b[0m multiple \u001b[38;5;241m=\u001b[39m RobotMultiple(nombre\u001b[38;5;241m=\u001b[39m\u001b[38;5;124m\"\u001b[39m\u001b[38;5;124mCHrIS-K\u001b[39m\u001b[38;5;124m\"\u001b[39m,\n\u001b[1;32m     19\u001b[0m                          version_python\u001b[38;5;241m=\u001b[39m\u001b[38;5;241m3.12\u001b[39m,\n\u001b[1;32m     20\u001b[0m                          nucleos\u001b[38;5;241m=\u001b[39m\u001b[38;5;241m3\u001b[39m,\n\u001b[1;32m     21\u001b[0m                          pala_diamante\u001b[38;5;241m=\u001b[39m\u001b[38;5;28;01mTrue\u001b[39;00m,\n\u001b[1;32m     22\u001b[0m                          carros\u001b[38;5;241m=\u001b[39m\u001b[38;5;241m4\u001b[39m)\n",
      "\u001b[0;31mNameError\u001b[0m: name 'RobotMinero' is not defined"
     ]
    }
   ],
   "source": [
    "mineros = [RobotMinero(nombre=\"Jul-IO\",\n",
    "                       version_python=3.5,\n",
    "                       nucleos=1,\n",
    "                       pala_diamante=True),\n",
    "           RobotMinero(nombre=\"Jul-IAn\",\n",
    "                       version_python=3.8,\n",
    "                       nucleos=2,\n",
    "                       pala_diamante=False),\n",
    "           RobotMinero(nombre=\"Alon-S0\",\n",
    "                       version_python=3.8,\n",
    "                       nucleos=3,\n",
    "                       pala_diamante=False)]\n",
    "\n",
    "transporte = RobotTransporte(nombre=\"Mat-IAS\",\n",
    "                             version_python=3.10,\n",
    "                             carros=3)\n",
    "\n",
    "multiple = RobotMultiple(nombre=\"CHrIS-K\",\n",
    "                         version_python=3.12,\n",
    "                         nucleos=3,\n",
    "                         pala_diamante=True,\n",
    "                         carros=4)\n",
    "\n",
    "de_oro = GoldenRobot(nombre=\"smallCAT-22\",\n",
    "                     version_python=3.8,\n",
    "                     factor_conversion=0.8,\n",
    "                     kilates=18)\n",
    "\n",
    "robots = {\"Minero\": mineros,\n",
    "          \"Transporte\": transporte,\n",
    "          \"Multiple\": multiple,\n",
    "          \"Golden\": de_oro}\n",
    "          \n",
    "dcc_mina = DccMina(robots, 10)\n",
    "dcc_mina.simulacion()"
   ]
  },
  {
   "cell_type": "code",
   "execution_count": null,
   "metadata": {},
   "outputs": [],
   "source": []
  }
 ],
 "metadata": {
  "celltoolbar": "Slideshow",
  "colab": {
   "collapsed_sections": [],
   "name": "AY02.ipynb",
   "provenance": []
  },
  "kernelspec": {
   "display_name": "Python 3 (ipykernel)",
   "language": "python",
   "name": "python3"
  },
  "language_info": {
   "codemirror_mode": {
    "name": "ipython",
    "version": 3
   },
   "file_extension": ".py",
   "mimetype": "text/x-python",
   "name": "python",
   "nbconvert_exporter": "python",
   "pygments_lexer": "ipython3",
   "version": "3.8.10"
  }
 },
 "nbformat": 4,
 "nbformat_minor": 1
}
