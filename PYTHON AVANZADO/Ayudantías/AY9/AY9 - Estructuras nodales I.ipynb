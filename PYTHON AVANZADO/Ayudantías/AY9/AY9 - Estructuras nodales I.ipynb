{
 "cells": [
  {
   "cell_type": "markdown",
   "metadata": {
    "id": "X0htolw7bxvo",
    "slideshow": {
     "slide_type": "slide"
    }
   },
   "source": [
    "# Ayudantía 08: Estrucutras Nodales I"
   ]
  },
  {
   "cell_type": "markdown",
   "metadata": {
    "slideshow": {
     "slide_type": "fragment"
    }
   },
   "source": [
    "# Emperazemos las 14:10\n",
    "   # Mientras eso se pueden ir contestando el menti 1476 3958"
   ]
  },
  {
   "cell_type": "markdown",
   "metadata": {
    "id": "OZY72vpgdADw",
    "slideshow": {
     "slide_type": "subslide"
    }
   },
   "source": [
    "## ¿Qué es un nodo?"
   ]
  },
  {
   "cell_type": "markdown",
   "metadata": {
    "id": "OZY72vpgdADw",
    "slideshow": {
     "slide_type": "fragment"
    }
   },
   "source": [
    "Un nodo es una objeto con una estructura simple, pero permite modelar estructuras complejas. Es el pilar principal de las estructuras nodales (de ahí viene el nombre)."
   ]
  },
  {
   "cell_type": "markdown",
   "metadata": {
    "id": "OZY72vpgdADw",
    "slideshow": {
     "slide_type": "subslide"
    }
   },
   "source": [
    "Un nodo tiene usualmente 2 propiedades:\n",
    "\n",
    "* **Valor:** El valor del nodo. Puede ser ```None``` en algunos casos\n",
    "* **Referencias a los nodos vecinos/hijos:** Puede ser una lista de nodos vecinos, u tomar otras formas dependiendo del contexto"
   ]
  },
  {
   "cell_type": "markdown",
   "metadata": {
    "id": "OZY72vpgdADw",
    "slideshow": {
     "slide_type": "subslide"
    }
   },
   "source": [
    "<center>\n",
    "<img src=\"img/nodo.png\"></img>\n",
    "</center>"
   ]
  },
  {
   "cell_type": "code",
   "execution_count": 13,
   "metadata": {
    "id": "UjwyD7mxP0MB",
    "slideshow": {
     "slide_type": "subslide"
    }
   },
   "outputs": [],
   "source": [
    "# Un nodo con un vecino\n",
    "\n",
    "class Nodo:\n",
    "  def __init__(self, valor=None, siguiente=None):\n",
    "    self.valor = valor # El valor del nodo\n",
    "    self.nodo_siguiente = siguiente # El nodo vecino"
   ]
  },
  {
   "cell_type": "code",
   "execution_count": 14,
   "metadata": {
    "id": "-Me8npsGlt1z",
    "slideshow": {
     "slide_type": "subslide"
    }
   },
   "outputs": [],
   "source": [
    "# Un Nodo con un número arbitrario de vecinos\n",
    "\n",
    "class Nodo:\n",
    "  def __init__(self, valor=None):\n",
    "    self.valor = valor\n",
    "    self.nodos_vecinos = [] # Los vecinos\n",
    "\n",
    "  def agregar_vecino(self, nuevo_vecino):\n",
    "    # Agrega un vecino a la lista de vecinos\n",
    "    self.nodos_vecinos.append(nuevo_vecino)\n",
    "\n",
    "  def __repr__(self):\n",
    "    return f\"Nodo con el valor {self.valor}\""
   ]
  },
  {
   "cell_type": "markdown",
   "metadata": {
    "id": "V8mX_sLvmCXO",
    "slideshow": {
     "slide_type": "slide"
    }
   },
   "source": [
    "## Listas ligadas\n",
    "La lista ligada almacena nodos en orden. Se diferencia de una lista normal en cómo se almacena en memoria\n",
    "\n",
    "Así se ve una lista normal:"
   ]
  },
  {
   "cell_type": "markdown",
   "metadata": {
    "id": "V8mX_sLvmCXO",
    "slideshow": {
     "slide_type": "subslide"
    }
   },
   "source": [
    "<center>\n",
    "<img src=\"img/ArrayList.png\"></img>\n",
    "</center>"
   ]
  },
  {
   "cell_type": "markdown",
   "metadata": {
    "id": "V8mX_sLvmCXO",
    "slideshow": {
     "slide_type": "subslide"
    }
   },
   "source": [
    "Y así se ve una lista ligada\n",
    "<center>\n",
    "<img src=\"img/LinkedList.png\"></img>\n",
    "</center>"
   ]
  },
  {
   "cell_type": "markdown",
   "metadata": {
    "id": "TKynaiKDpdvP",
    "slideshow": {
     "slide_type": "subslide"
    }
   },
   "source": [
    "Construyamos una lista ligada paso a paso. En primer lugar, necesitamos una estructura nodal que represente cada elemento de la lista"
   ]
  },
  {
   "cell_type": "code",
   "execution_count": 15,
   "metadata": {
    "id": "FC8RYvVWpc56",
    "slideshow": {
     "slide_type": "fragment"
    }
   },
   "outputs": [],
   "source": [
    "class Nodo:\n",
    "  def __init__(self, valor):\n",
    "    self.valor = valor\n",
    "    self.siguiente = None"
   ]
  },
  {
   "cell_type": "markdown",
   "metadata": {
    "id": "2bZOkjzQo5xt",
    "slideshow": {
     "slide_type": "subslide"
    }
   },
   "source": [
    "Luego, necesitamos una estructura para guardar los valores de la lista. En este caso solo guardaremos la referencia al primer elemento de la lista, que llamaremos \"cabeza\", ya que a partir de ese podemos llegar a todos los otros elementos de la lista, y la cantidad de elementos que tiene la lista:"
   ]
  },
  {
   "cell_type": "code",
   "execution_count": 16,
   "metadata": {
    "id": "aEH7SPuzmoaS",
    "slideshow": {
     "slide_type": "fragment"
    }
   },
   "outputs": [],
   "source": [
    "class ListaLigada:\n",
    "  def __init__(self):\n",
    "    self.cabeza = None\n",
    "    self.largo = 0"
   ]
  },
  {
   "cell_type": "markdown",
   "metadata": {
    "id": "pbHlUArypQDI",
    "slideshow": {
     "slide_type": "subslide"
    }
   },
   "source": [
    "Luego, necesitamos poder agregar elementos a la lista."
   ]
  },
  {
   "cell_type": "code",
   "execution_count": 17,
   "metadata": {
    "id": "UrDq05QvpTnX",
    "slideshow": {
     "slide_type": "subslide"
    }
   },
   "outputs": [],
   "source": [
    "class ListaLigada:\n",
    "  def __init__(self):\n",
    "    self.cabeza = None\n",
    "    self.largo = 0\n",
    "    \n",
    "  def agregar_elemento(self, valor):\n",
    "    if self.cabeza is None:\n",
    "      self.cabeza = Nodo(valor)\n",
    "    else:\n",
    "      antigua_cabeza = self.cabeza\n",
    "      self.cabeza = Nodo(valor)\n",
    "      self.cabeza.siguiente = antigua_cabeza\n",
    "    self.largo += 1"
   ]
  },
  {
   "cell_type": "markdown",
   "metadata": {
    "id": "NtKKBHrFq_Sy",
    "slideshow": {
     "slide_type": "subslide"
    }
   },
   "source": [
    "O quitarlos"
   ]
  },
  {
   "cell_type": "code",
   "execution_count": 18,
   "metadata": {
    "id": "t8AZxfNzq-3L",
    "slideshow": {
     "slide_type": "fragment"
    }
   },
   "outputs": [],
   "source": [
    "class ListaLigada:\n",
    "  def __init__(self):\n",
    "    self.cabeza = None\n",
    "    self.largo = 0\n",
    "\n",
    "  def quitar_elemento(self):\n",
    "    if self.cabeza is None:\n",
    "      return None\n",
    "    valor = self.cabeza.valor\n",
    "    self.cabeza = self.cabeza.siguiente\n",
    "    self.largo -= 1\n",
    "    return valor"
   ]
  },
  {
   "cell_type": "markdown",
   "metadata": {
    "id": "dVqRSeFPubGc",
    "slideshow": {
     "slide_type": "subslide"
    }
   },
   "source": [
    "Veamos la clase completa"
   ]
  },
  {
   "cell_type": "code",
   "execution_count": 19,
   "metadata": {
    "id": "KWvuSXkauZ-3",
    "slideshow": {
     "slide_type": "subslide"
    }
   },
   "outputs": [],
   "source": [
    "class ListaLigada:\n",
    "  def __init__(self):\n",
    "    self.cabeza = None\n",
    "    self.largo = 0\n",
    "    \n",
    "  def agregar_elemento(self, valor):\n",
    "    if self.cabeza is None:\n",
    "      self.cabeza = Nodo(valor)\n",
    "    else:\n",
    "      antigua_cabeza = self.cabeza\n",
    "      self.cabeza = Nodo(valor)\n",
    "      self.cabeza.siguiente = antigua_cabeza\n",
    "    self.largo += 1\n",
    "\n",
    "  def quitar_elemento(self):\n",
    "    if self.cabeza is None:\n",
    "      return None\n",
    "    valor = self.cabeza.valor\n",
    "    self.cabeza = self.cabeza.siguiente\n",
    "    self.largo -= 1\n",
    "    return valor"
   ]
  },
  {
   "cell_type": "markdown",
   "metadata": {
    "id": "5d3iPa_RrisK",
    "slideshow": {
     "slide_type": "subslide"
    }
   },
   "source": [
    "Y así implementamos un stack eficiente! Veamoslo en acción:"
   ]
  },
  {
   "cell_type": "code",
   "execution_count": 20,
   "metadata": {
    "colab": {
     "base_uri": "https://localhost:8080/"
    },
    "executionInfo": {
     "elapsed": 48,
     "status": "ok",
     "timestamp": 1653359571967,
     "user": {
      "displayName": "JULIÁN GARCÍA",
      "userId": "14305126144762520678"
     },
     "user_tz": 240
    },
    "id": "9GWRTP45tzis",
    "outputId": "359124ed-966e-44e1-c044-c2bb535fe44d",
    "slideshow": {
     "slide_type": "fragment"
    }
   },
   "outputs": [
    {
     "name": "stdout",
     "output_type": "stream",
     "text": [
      "3\n",
      "2\n",
      "1\n"
     ]
    }
   ],
   "source": [
    "lista = ListaLigada()\n",
    "lista.agregar_elemento(1)\n",
    "lista.agregar_elemento(2)\n",
    "lista.agregar_elemento(3)\n",
    "\n",
    "while lista.largo != 0:\n",
    "  print(lista.quitar_elemento())"
   ]
  },
  {
   "cell_type": "markdown",
   "metadata": {
    "id": "w-Argcjsr4hb",
    "slideshow": {
     "slide_type": "subslide"
    }
   },
   "source": [
    "### Listas doblemente ligadas\n",
    "La lista doblemente ligada se diferencia de la lista ligada en que contiene una referencia al primer **y** último nodo de la lista, y cada nodo tiene referencia al nodo que lo precede y que lo antecede. Implementaremos una cola con esta estructura"
   ]
  },
  {
   "cell_type": "markdown",
   "metadata": {
    "id": "twd8kZpssyTf",
    "slideshow": {
     "slide_type": "subslide"
    }
   },
   "source": [
    "Primero veamos un nodo"
   ]
  },
  {
   "cell_type": "code",
   "execution_count": 21,
   "metadata": {
    "id": "eUWsjmk8sgG7",
    "slideshow": {
     "slide_type": "fragment"
    }
   },
   "outputs": [],
   "source": [
    "class Nodo:\n",
    "  def __init__(self, valor):\n",
    "    self.valor = valor\n",
    "    self.siguiente = None\n",
    "    self.anterior = None"
   ]
  },
  {
   "cell_type": "markdown",
   "metadata": {
    "id": "QRhQ_J8zs03y",
    "slideshow": {
     "slide_type": "subslide"
    }
   },
   "source": [
    "Luego veamos como agregar elementos a la cola"
   ]
  },
  {
   "cell_type": "code",
   "execution_count": 22,
   "metadata": {
    "id": "0ZHmvOfis0EB",
    "slideshow": {
     "slide_type": "subslide"
    }
   },
   "outputs": [],
   "source": [
    "class ListaDoblementeLigada:\n",
    "  def __init__(self):\n",
    "    self.cabeza = None\n",
    "    self.cola = None\n",
    "    self.largo = 0\n",
    "\n",
    "  def agregar_elemento(self, valor):\n",
    "    if self.cabeza is None: # si cabeza es None cola también lo será\n",
    "      self.cabeza = Nodo(valor)\n",
    "      self.cola = self.cabeza\n",
    "    else:\n",
    "      antigua_cabeza = self.cabeza\n",
    "      self.cabeza = Nodo(valor)\n",
    "      self.cabeza.siguiente = antigua_cabeza\n",
    "      antigua_cabeza.anterior = self.cabeza\n",
    "    self.largo += 1"
   ]
  },
  {
   "cell_type": "markdown",
   "metadata": {
    "id": "r2IXY_frum0d",
    "slideshow": {
     "slide_type": "subslide"
    }
   },
   "source": [
    "Veamos como quitar elementos de la cola"
   ]
  },
  {
   "cell_type": "code",
   "execution_count": 23,
   "metadata": {
    "id": "ouAEhLIxutnO",
    "slideshow": {
     "slide_type": "subslide"
    }
   },
   "outputs": [],
   "source": [
    "class ListaDoblementeLigada:\n",
    "  def __init__(self):\n",
    "    self.cabeza = None\n",
    "    self.cola = None\n",
    "    self.largo = 0\n",
    "\n",
    "  def quitar_elemento(self):\n",
    "    if self.cola is None:\n",
    "      return None\n",
    "    valor = self.cola.valor\n",
    "    self.cola = self.cola.anterior\n",
    "    if self.cola is not None:\n",
    "      self.cola.siguiente = None\n",
    "    else:\n",
    "      self.cabeza = None\n",
    "    self.largo -= 1\n",
    "    return valor"
   ]
  },
  {
   "cell_type": "markdown",
   "metadata": {
    "id": "l44LCqFMvGj9",
    "slideshow": {
     "slide_type": "subslide"
    }
   },
   "source": [
    "Y la clase completa"
   ]
  },
  {
   "cell_type": "code",
   "execution_count": 24,
   "metadata": {
    "id": "DRgJDr_FvQjL",
    "slideshow": {
     "slide_type": "subslide"
    }
   },
   "outputs": [],
   "source": [
    "class ListaDoblementeLigada:\n",
    "  def __init__(self):\n",
    "    self.cabeza = None\n",
    "    self.cola = None\n",
    "    self.largo = 0\n",
    "\n",
    "  def agregar_elemento(self, valor):\n",
    "    if self.cabeza is None:\n",
    "      self.cabeza = Nodo(valor)\n",
    "      self.cola = self.cabeza\n",
    "    else:\n",
    "      antigua_cabeza = self.cabeza\n",
    "      self.cabeza = Nodo(valor)\n",
    "      self.cabeza.siguiente = antigua_cabeza\n",
    "      antigua_cabeza.anterior = self.cabeza\n",
    "    self.largo += 1\n",
    "\n",
    "  def quitar_elemento(self):\n",
    "    if self.cola is None:\n",
    "      return None\n",
    "    valor = self.cola.valor\n",
    "    self.cola = self.cola.anterior\n",
    "    if self.cola is not None:\n",
    "      self.cola.siguiente = None\n",
    "    else:\n",
    "      self.cabeza = None\n",
    "    self.largo -= 1\n",
    "    return valor"
   ]
  },
  {
   "cell_type": "markdown",
   "metadata": {
    "id": "erw8xYKKvcDx",
    "slideshow": {
     "slide_type": "subslide"
    }
   },
   "source": [
    "Y así tenemos una cola eficiente! Veamoslo en acción"
   ]
  },
  {
   "cell_type": "code",
   "execution_count": 25,
   "metadata": {
    "colab": {
     "base_uri": "https://localhost:8080/"
    },
    "executionInfo": {
     "elapsed": 43,
     "status": "ok",
     "timestamp": 1653359571970,
     "user": {
      "displayName": "JULIÁN GARCÍA",
      "userId": "14305126144762520678"
     },
     "user_tz": 240
    },
    "id": "IaPmuO4xvdF1",
    "outputId": "4fee023d-f852-4c49-8a54-e121a4a9f998",
    "slideshow": {
     "slide_type": "fragment"
    }
   },
   "outputs": [
    {
     "name": "stdout",
     "output_type": "stream",
     "text": [
      "1\n",
      "2\n",
      "3\n"
     ]
    }
   ],
   "source": [
    "cola = ListaDoblementeLigada()\n",
    "\n",
    "cola.agregar_elemento(1)\n",
    "cola.agregar_elemento(2)\n",
    "cola.agregar_elemento(3)\n",
    "\n",
    "while cola.largo != 0:\n",
    "  print(cola.quitar_elemento())"
   ]
  },
  {
   "cell_type": "markdown",
   "metadata": {
    "id": "XBwyl0czwv3G",
    "slideshow": {
     "slide_type": "subslide"
    }
   },
   "source": [
    "En una lista doblemente ligada, también podemos implementar la inserción de elementos en posición arbitraria, la eliminación de un elemento en posición arbitraria y recuperar el valor de un elemento en posición arbitraria. En la ayudantía solo implementamos recuperar_valor, pero acá están las implementaciones completas de todas las operaciones"
   ]
  },
  {
   "cell_type": "code",
   "execution_count": 26,
   "metadata": {
    "id": "ekbE9tCXvwMz",
    "slideshow": {
     "slide_type": "fragment"
    }
   },
   "outputs": [],
   "source": [
    "class ListaDoblementeLigada(ListaDoblementeLigada):\n",
    "  def recuperar_valor(self, posicion):\n",
    "    if posicion >= self.largo:\n",
    "      raise IndexError\n",
    "    nodo = self.cola\n",
    "    for _ in range(posicion):\n",
    "      nodo = nodo.anterior # avanzamos la cantidad de nodos necesaria para llegar a la posicion\n",
    "    return nodo.valor      # retornamos el valor\n",
    "\n",
    "  def insertar_valor(self, valor, posicion):\n",
    "    if posicion > self.largo:\n",
    "      raise IndexError\n",
    "    nodo = self.cola\n",
    "    if posicion == 0:\n",
    "      if nodo is None: # caso borde, no hay nodos en la lista\n",
    "        self.cola = Nodo(valor)\n",
    "        self.cabeza = self.cola\n",
    "      else: # Hay nodos en la lista pero agregamos al comienzo\n",
    "        nodo.siguiente = Nodo(valor)\n",
    "        nodo.siguiente.anterior = nodo\n",
    "        self.cola = nodo.siguiente\n",
    "    else:\n",
    "      for _ in range(posicion - 1):\n",
    "        nodo = nodo.anterior # avanzamos para llegar hasta un nodo antes del nodo deseado\n",
    "      anterior = nodo.anterior\n",
    "      nodo.anterior = Nodo(valor) # agregamos el nodo en la posición correcta (1 despues del que buscamos)\n",
    "      nodo.anterior.siguiente = nodo # hacemos las conexiones necesarias\n",
    "      nodo.anterior.anterior = anterior\n",
    "      if anterior is not None:\n",
    "        anterior.siguiente = nodo.anterior\n",
    "      else: # caso borde, estamos ingresando al final de la lista\n",
    "        self.cabeza = nodo.anterior\n",
    "    self.largo += 1\n",
    "    \n",
    "  def eliminar_posicion(self, posicion):\n",
    "    if posicion >= self.largo:\n",
    "      raise IndexError\n",
    "    if posicion == 0:\n",
    "      if self.largo == 1: # Caso borde, la lista tiene un solo elemento\n",
    "        valor = self.cola.valor\n",
    "        self.cabeza = None\n",
    "        self.cola = None\n",
    "      else: # Eliminamos el primer elemento y hay elementos en la lista\n",
    "        valor = self.cola.valor\n",
    "        self.cola = self.cola.anterior\n",
    "        self.cola.siguiente = None\n",
    "    else:\n",
    "      nodo = self.cola\n",
    "      for _ in range(posicion - 1):\n",
    "        nodo = nodo.anterior # Nos movemos hasta uno antes del nodo que queremos eliminar\n",
    "      valor = nodo.anterior.valor\n",
    "      nodo.anterior = nodo.anterior.anterior # desconectamos el nodo\n",
    "      if nodo.anterior is not None:\n",
    "        nodo.anterior.siguiente = nodo\n",
    "      else: # caso borde, estamos eliminando el ultimo nodo\n",
    "        self.cabeza = nodo\n",
    "    self.largo -= 1\n",
    "    return valor\n",
    "\n",
    "  def __str__(self): # para imprimir la lista\n",
    "    n = self.cola\n",
    "    s = \"[\"\n",
    "    while n is not None:\n",
    "      s += str(n.valor) + (\", \" if n.anterior is not None else \"\")\n",
    "      n = n.anterior\n",
    "    s += \"]\"\n",
    "    return s"
   ]
  },
  {
   "cell_type": "markdown",
   "metadata": {
    "id": "tD6xQ_rsznCv",
    "slideshow": {
     "slide_type": "subslide"
    }
   },
   "source": [
    "Ahora utilicemos esa clase!"
   ]
  },
  {
   "cell_type": "code",
   "execution_count": 27,
   "metadata": {
    "colab": {
     "base_uri": "https://localhost:8080/"
    },
    "executionInfo": {
     "elapsed": 39,
     "status": "ok",
     "timestamp": 1653359571972,
     "user": {
      "displayName": "JULIÁN GARCÍA",
      "userId": "14305126144762520678"
     },
     "user_tz": 240
    },
    "id": "d4LUXSQQzmfg",
    "outputId": "09c7bca2-15ed-4304-b7b7-106c4bffb896",
    "slideshow": {
     "slide_type": "fragment"
    }
   },
   "outputs": [
    {
     "name": "stdout",
     "output_type": "stream",
     "text": [
      "[2, 3, 2]\n",
      "2\n",
      "3\n",
      "2\n"
     ]
    }
   ],
   "source": [
    "lista = ListaDoblementeLigada()\n",
    "\n",
    "lista.agregar_elemento(1)\n",
    "lista.agregar_elemento(2)\n",
    "lista.agregar_elemento(3)\n",
    "lista.quitar_elemento()\n",
    "lista.insertar_valor(2, 2)\n",
    "lista.insertar_valor(3, 2)\n",
    "lista.eliminar_posicion(1)\n",
    "\n",
    "print(lista)\n",
    "\n",
    "print(lista.recuperar_valor(0))\n",
    "print(lista.recuperar_valor(1))\n",
    "print(lista.recuperar_valor(2))"
   ]
  },
  {
   "cell_type": "markdown",
   "metadata": {
    "id": "co6EpXEZ0RQ_",
    "slideshow": {
     "slide_type": "slide"
    }
   },
   "source": [
    "## Árboles\n",
    "\n",
    "Al contrario de las Listas Ligadas, los árboles son estructuras **no lineales**, y estos siguen una estructura **jerárquica**. De esta forma, los nodos se ordenan a través de relaciones **padre-hijo**."
   ]
  },
  {
   "cell_type": "markdown",
   "metadata": {
    "id": "NVun3-tm0lcT",
    "slideshow": {
     "slide_type": "fragment"
    }
   },
   "source": [
    "El primer nodo se llama **nodo raíz** (*root*), y este es el único nodo que no posee un **padre** (*parent*). Cada nodo padre posee uno o más **hijos** (*children*). Los nodos que no tienen hijos, es decir, los que se encuentran en los extremos de los árboles, se denominan como nodos **hoja**, y el resto se llaman **nodos interiores**. Crearemos la clase Arbol"
   ]
  },
  {
   "cell_type": "code",
   "execution_count": 28,
   "metadata": {
    "executionInfo": {
     "elapsed": 217,
     "status": "ok",
     "timestamp": 1653362015134,
     "user": {
      "displayName": "CAUA SANTIAGO-PAZ TERRA",
      "userId": "12303588932687579419"
     },
     "user_tz": 240
    },
    "id": "wksULzHr1as-",
    "slideshow": {
     "slide_type": "fragment"
    }
   },
   "outputs": [],
   "source": [
    "class Arbol:\n",
    "  def __init__(self):\n",
    "    self.raiz = None"
   ]
  },
  {
   "cell_type": "markdown",
   "metadata": {
    "id": "eQ3o8ay40pCW",
    "slideshow": {
     "slide_type": "subslide"
    }
   },
   "source": [
    "Un nodo del árbol en nuestro caso tendrá las siguientes propiedades:\n",
    "* un id único (no habrán 2 nodos con el mismo id)\n",
    "* una referencia al padre\n",
    "* una referencia a los hijos\n",
    "* un valor, que podría ser ```None```"
   ]
  },
  {
   "cell_type": "code",
   "execution_count": 29,
   "metadata": {
    "executionInfo": {
     "elapsed": 251,
     "status": "ok",
     "timestamp": 1653364117640,
     "user": {
      "displayName": "CAUA SANTIAGO-PAZ TERRA",
      "userId": "12303588932687579419"
     },
     "user_tz": 240
    },
    "id": "MYz7B_6u0lCX",
    "slideshow": {
     "slide_type": "subslide"
    }
   },
   "outputs": [],
   "source": [
    "class Nodo:\n",
    "  def __init__(self, id, valor=None):\n",
    "    self.id = id\n",
    "    self.valor = valor\n",
    "    self.padre = None\n",
    "    self.hijos = []\n",
    "  \n",
    "  def __repr__(self):\n",
    "    return f'Nodo de id: {self.id} y valor: {self.valor}'"
   ]
  },
  {
   "cell_type": "markdown",
   "metadata": {
    "id": "BygltLNz23Mu",
    "slideshow": {
     "slide_type": "subslide"
    }
   },
   "source": [
    "Un ejemplo de cosas que podemos hacer en nuestro árbol es agregar un nodo bajo otro nodo que buscaremos por id. Para eso buscamos sobre todos los nodos del árbol hasta encontrar el nodo que queríamos."
   ]
  },
  {
   "cell_type": "code",
   "execution_count": 30,
   "metadata": {
    "executionInfo": {
     "elapsed": 247,
     "status": "ok",
     "timestamp": 1653364119588,
     "user": {
      "displayName": "CAUA SANTIAGO-PAZ TERRA",
      "userId": "12303588932687579419"
     },
     "user_tz": 240
    },
    "id": "Bnz3WI8Ez3LZ",
    "slideshow": {
     "slide_type": "subslide"
    }
   },
   "outputs": [],
   "source": [
    "class Arbol:\n",
    "  def __init__(self):\n",
    "    self.raiz = Nodo(0, None)\n",
    "    self.next_id = 1\n",
    "\n",
    "  def agregar_nodo(self, valor, id, id_padre):\n",
    "    padre = self.buscar_nodo(id_padre)\n",
    "    if padre:\n",
    "      padre.hijos.append(Nodo(id, valor))\n",
    "\n",
    "  def buscar_nodo(self, id): # (SPOILER siguiente parte)\n",
    "    lista_por_visitar = [self.raiz]\n",
    "    while lista_por_visitar:\n",
    "      next = lista_por_visitar.pop()\n",
    "      if next.id == id:\n",
    "        return next\n",
    "      else:\n",
    "        for hijo in next.hijos:\n",
    "          lista_por_visitar.append(hijo)"
   ]
  },
  {
   "cell_type": "markdown",
   "metadata": {
    "id": "9gQmH37V5rPC",
    "slideshow": {
     "slide_type": "subslide"
    }
   },
   "source": [
    "Agregamos métodos para imprimir el árbol actual:"
   ]
  },
  {
   "cell_type": "code",
   "execution_count": 31,
   "metadata": {
    "executionInfo": {
     "elapsed": 381,
     "status": "ok",
     "timestamp": 1653364121427,
     "user": {
      "displayName": "CAUA SANTIAGO-PAZ TERRA",
      "userId": "12303588932687579419"
     },
     "user_tz": 240
    },
    "id": "H1-izbyJ5qi6",
    "slideshow": {
     "slide_type": "skip"
    }
   },
   "outputs": [],
   "source": [
    "class Arbol:\n",
    "  def __init__(self):\n",
    "    self.raiz = Nodo(0, None)\n",
    "    self.next_id = 1\n",
    "\n",
    "  def agregar_nodo(self, valor, id_padre):\n",
    "    padre = self.buscar_nodo(id_padre)\n",
    "    if padre:\n",
    "      padre.hijos.append(Nodo(self.next_id, valor))\n",
    "      self.next_id += 1\n",
    "      \n",
    "  def buscar_nodo(self, id): # (SPOILER siguiente parte)\n",
    "    lista_por_visitar = [self.raiz]\n",
    "    while lista_por_visitar:\n",
    "      next = lista_por_visitar.pop()\n",
    "      if next.id == id:\n",
    "        return next\n",
    "      else:\n",
    "        for hijo in next.hijos:\n",
    "          lista_por_visitar.append(hijo)\n",
    "\n",
    "  def __str__(self):\n",
    "    # Método complicado sólo para imprimir el árbol\n",
    "    nodos = [(self.raiz, 0, True)]\n",
    "    finished = []\n",
    "    text = \"\"\n",
    "    while nodos:\n",
    "      next, depth, last = nodos.pop()\n",
    "      finished = finished[:depth]\n",
    "      while len(finished) < depth:\n",
    "        finished.append(False)\n",
    "      text += \"\".join([\"|  \" if i == False else \"   \" for i in finished[1:]]) + (\"\" if depth == 0 else (\"└──\" if last else \"├──\")) + str(next.id) + \"(\" + str(next.valor) + \")\\n\"\n",
    "      if last:\n",
    "        finished.append(True)\n",
    "      for i, nodo in enumerate(next.hijos[::-1]):\n",
    "        nodos.append([nodo, depth + 1, i == 0])\n",
    "    return text"
   ]
  },
  {
   "cell_type": "markdown",
   "metadata": {
    "id": "oU4IXfwY6t0b",
    "slideshow": {
     "slide_type": "skip"
    }
   },
   "source": [
    "Y utilizamos todo lo implementado"
   ]
  },
  {
   "cell_type": "code",
   "execution_count": 32,
   "metadata": {
    "colab": {
     "base_uri": "https://localhost:8080/"
    },
    "executionInfo": {
     "elapsed": 365,
     "status": "ok",
     "timestamp": 1653364123776,
     "user": {
      "displayName": "CAUA SANTIAGO-PAZ TERRA",
      "userId": "12303588932687579419"
     },
     "user_tz": 240
    },
    "id": "UW18lb6F6sGB",
    "outputId": "5f8a7355-d2ee-41f6-8099-d1798ee1695e",
    "slideshow": {
     "slide_type": "skip"
    }
   },
   "outputs": [
    {
     "name": "stdout",
     "output_type": "stream",
     "text": [
      "0(None)\n",
      "├──1(a)\n",
      "└──2(g)\n",
      "   ├──3(b)\n",
      "   |  └──6(e)\n",
      "   ├──4(c)\n",
      "   |  └──7(f)\n",
      "   └──5(d)\n",
      "\n"
     ]
    }
   ],
   "source": [
    "arbol = Arbol()\n",
    "arbol.agregar_nodo(\"a\", 0)\n",
    "arbol.agregar_nodo(\"g\", 0)\n",
    "arbol.agregar_nodo(\"b\", 2)\n",
    "arbol.agregar_nodo(\"c\", 2)\n",
    "arbol.agregar_nodo(\"d\", 2)\n",
    "arbol.agregar_nodo(\"e\", 3)\n",
    "arbol.agregar_nodo(\"f\", 4)\n",
    "\n",
    "print(arbol)"
   ]
  },
  {
   "cell_type": "markdown",
   "metadata": {
    "id": "epUKrmEy2IED",
    "slideshow": {
     "slide_type": "skip"
    }
   },
   "source": []
  },
  {
   "cell_type": "markdown",
   "metadata": {
    "id": "15OmzIkK3wNQ",
    "slideshow": {
     "slide_type": "skip"
    }
   },
   "source": [
    "## Algoritmos de búsqueda en árboles\n",
    "Existen dos algoritmos principales de búsqueda que veremos.\n",
    "\n",
    "### Breadth First Search (BFS)\n",
    "En traducción, sería \"búsqueda por anchura primero\". Recorre los nodos del árbol según su distancia a la raíz.\n",
    "\n",
    "Esta es una representación visual del algoritmo de BFS sobre árboles:\n",
    "\n",
    "<img src=\"img/bfs.gif\"></img>\n",
    "\n",
    "\n",
    "La implementación de este algoritmo se puede hacer por recursión o de forma iterativa. Veremos la forma iterativa (y usando la clase árbol definida anteriormente):\n",
    "\n"
   ]
  },
  {
   "cell_type": "code",
   "execution_count": 33,
   "metadata": {
    "executionInfo": {
     "elapsed": 228,
     "status": "ok",
     "timestamp": 1653364126471,
     "user": {
      "displayName": "CAUA SANTIAGO-PAZ TERRA",
      "userId": "12303588932687579419"
     },
     "user_tz": 240
    },
    "id": "huVsRTPg4pQs",
    "slideshow": {
     "slide_type": "skip"
    }
   },
   "outputs": [],
   "source": [
    "from collections import deque # también podríamos usar la lista doblemente ligada definida anteriormente\n",
    "def bfs(arbol, valor):\n",
    "  cola = deque()\n",
    "  cola.append(arbol.raiz)\n",
    "  while cola: # Mientras aun queden nodos por visitar\n",
    "    elemento = cola.popleft() # tomamos el nodo que agregamos primero que aún siga en la cola\n",
    "    if elemento.valor == valor:\n",
    "      # Encontramos el nodo\n",
    "      return True\n",
    "    for hijo in elemento.hijos:\n",
    "      cola.append(hijo)\n",
    "  return False # En caso de visitarlo todo y no encontrar el valor"
   ]
  },
  {
   "cell_type": "markdown",
   "metadata": {
    "id": "sKmFTkfE6HvZ",
    "slideshow": {
     "slide_type": "skip"
    }
   },
   "source": [
    "Finalmente lo utilizamos"
   ]
  },
  {
   "cell_type": "code",
   "execution_count": 34,
   "metadata": {
    "colab": {
     "base_uri": "https://localhost:8080/"
    },
    "executionInfo": {
     "elapsed": 3,
     "status": "ok",
     "timestamp": 1653362901340,
     "user": {
      "displayName": "CAUA SANTIAGO-PAZ TERRA",
      "userId": "12303588932687579419"
     },
     "user_tz": 240
    },
    "id": "4BIlSZkQ6J9s",
    "outputId": "4f1c795f-86f7-49b4-baec-311080c56a46",
    "slideshow": {
     "slide_type": "skip"
    }
   },
   "outputs": [
    {
     "name": "stdout",
     "output_type": "stream",
     "text": [
      "True\n",
      "False\n"
     ]
    }
   ],
   "source": [
    "print(bfs(arbol, \"e\"))\n",
    "print(bfs(arbol, 5))"
   ]
  },
  {
   "cell_type": "markdown",
   "metadata": {
    "id": "IL7rkdbwBNs-",
    "slideshow": {
     "slide_type": "skip"
    }
   },
   "source": [
    "La estrategia  **Depth First Search** (DFS) o recorrido en profundidad, como el nombre sugiere vamos bajando hasta no haber más nodos hojas disponibles"
   ]
  },
  {
   "cell_type": "markdown",
   "metadata": {
    "id": "-7sfD4Bo4gMU",
    "slideshow": {
     "slide_type": "skip"
    }
   },
   "source": [
    "\n",
    "<img src=\"img/dfs.gif\"></img>"
   ]
  },
  {
   "cell_type": "markdown",
   "metadata": {
    "id": "nacBsd6ZBMA_",
    "slideshow": {
     "slide_type": "skip"
    }
   },
   "source": [
    "a implementación de este algoritmo se puede hacer por recursión o de forma iterativa. \n",
    "\n",
    "---\n",
    "\n",
    "DFS recursivo\n",
    "Es muy sencillo implementar DFS mediante una recursión, un ejemplo:"
   ]
  },
  {
   "cell_type": "code",
   "execution_count": 35,
   "metadata": {
    "executionInfo": {
     "elapsed": 248,
     "status": "ok",
     "timestamp": 1653364406370,
     "user": {
      "displayName": "CAUA SANTIAGO-PAZ TERRA",
      "userId": "12303588932687579419"
     },
     "user_tz": 240
    },
    "id": "oeng2JmpCjz0",
    "slideshow": {
     "slide_type": "skip"
    }
   },
   "outputs": [],
   "source": [
    "def dfs_recursivo(nodo, valor, visitados=[]):\n",
    "\n",
    "    if nodo.valor == valor:\n",
    "        return(nodo)\n",
    "\n",
    "    # Lo visitamos\n",
    "    visitados.append(nodo)\n",
    "\n",
    "    for hijo in nodo.hijos:\n",
    "        # Detalle clave: si ya visitamos el nodo, ¡no hacemos nada!\n",
    "        if hijo not in visitados:\n",
    "            if dfs_recursivo(hijo, valor, visitados):\n",
    "              return dfs_recursivo(hijo, valor, visitados)\n",
    "\n"
   ]
  },
  {
   "cell_type": "code",
   "execution_count": 36,
   "metadata": {
    "colab": {
     "base_uri": "https://localhost:8080/"
    },
    "executionInfo": {
     "elapsed": 3,
     "status": "ok",
     "timestamp": 1653364407370,
     "user": {
      "displayName": "CAUA SANTIAGO-PAZ TERRA",
      "userId": "12303588932687579419"
     },
     "user_tz": 240
    },
    "id": "lXH97D5eDny6",
    "outputId": "1a0f362f-e8ce-4dba-c3aa-7588cbd06a22",
    "slideshow": {
     "slide_type": "skip"
    }
   },
   "outputs": [
    {
     "data": {
      "text/plain": [
       "Nodo de id: 2 y valor: g"
      ]
     },
     "execution_count": 36,
     "metadata": {},
     "output_type": "execute_result"
    }
   ],
   "source": [
    "dfs_recursivo(arbol.raiz, 'g')"
   ]
  },
  {
   "cell_type": "markdown",
   "metadata": {
    "id": "_e8ndGpOM_19",
    "slideshow": {
     "slide_type": "skip"
    }
   },
   "source": [
    "Tu mejor amigo está haciendo un juego de plataformas, tu como excelente programadore decides ayudarle, más especificamente para calcular si un jugador puede saltar de una plataforma a otra sin morrir, tu no sabes la altura de antemano y no quiere hardecodear para cada plataforma, y por eso decides modelar el problema como un arbol, ya que de esa forma puede modelar las plataformas a un mismo nivel como si fueran hijos de un padre a un nivel más arriba.\n",
    "\n",
    "<img src=\"img/arbol ejemplo.png\"></img>\n",
    "\n",
    "Por ejemplo, desde el nodo 1 yo puedo saltar al {2,5,6}, {3,7} o {4,8}, pero como está modelado el juego, si salto desde un nodo con diferencia de profundidad >1, el personaje muerre, así que un salto del nodo 2 hacia el nodo 5 es posible, pero del nodo 1 hacia el nodo 5 no, ya que mi mono morreria.\n",
    "\n",
    "\n",
    "---\n",
    "\n",
    "\n",
    "Tendràs que hacer la función `puedo_saltar(Nodo_A, nodo_b)` que debe retornar True si se puede llegar desde el nodo_A hacia el nodo_B , false si no se puede y 'Uff creo que era muy alto, ta bien solo instanciar otro jugador' si se puede llegar pero la diferencia de profundidades es más grande que 1."
   ]
  },
  {
   "cell_type": "code",
   "execution_count": 37,
   "metadata": {
    "colab": {
     "base_uri": "https://localhost:8080/"
    },
    "executionInfo": {
     "elapsed": 317,
     "status": "ok",
     "timestamp": 1653366529412,
     "user": {
      "displayName": "CAUA SANTIAGO-PAZ TERRA",
      "userId": "12303588932687579419"
     },
     "user_tz": 240
    },
    "id": "CRfoTuoVQcS3",
    "outputId": "5b113b9d-0b89-41a8-ef17-a193307c85c1",
    "slideshow": {
     "slide_type": "skip"
    }
   },
   "outputs": [
    {
     "name": "stdout",
     "output_type": "stream",
     "text": [
      "0(None)\n",
      "└──1(1)\n",
      "   ├──2(2)\n",
      "   |  ├──6(6)\n",
      "   |  |  ├──20(20)\n",
      "   |  |  |  └──58(58)\n",
      "   |  |  ├──21(21)\n",
      "   |  |  |  ├──59(59)\n",
      "   |  |  |  ├──60(60)\n",
      "   |  |  |  └──61(61)\n",
      "   |  |  └──22(22)\n",
      "   |  |     ├──62(62)\n",
      "   |  |     ├──63(63)\n",
      "   |  |     ├──64(64)\n",
      "   |  |     └──65(65)\n",
      "   |  └──7(7)\n",
      "   |     ├──23(23)\n",
      "   |     |  ├──66(66)\n",
      "   |     |  └──67(67)\n",
      "   |     ├──24(24)\n",
      "   |     |  ├──68(68)\n",
      "   |     |  ├──69(69)\n",
      "   |     |  ├──70(70)\n",
      "   |     |  ├──71(71)\n",
      "   |     |  ├──72(72)\n",
      "   |     |  └──73(73)\n",
      "   |     └──25(25)\n",
      "   |        ├──74(74)\n",
      "   |        ├──75(75)\n",
      "   |        └──76(76)\n",
      "   ├──3(3)\n",
      "   |  ├──8(8)\n",
      "   |  |  ├──26(26)\n",
      "   |  |  |  ├──77(77)\n",
      "   |  |  |  ├──78(78)\n",
      "   |  |  |  └──79(79)\n",
      "   |  |  ├──27(27)\n",
      "   |  |  |  ├──80(80)\n",
      "   |  |  |  ├──81(81)\n",
      "   |  |  |  └──82(82)\n",
      "   |  |  ├──28(28)\n",
      "   |  |  |  ├──83(83)\n",
      "   |  |  |  ├──84(84)\n",
      "   |  |  |  └──85(85)\n",
      "   |  |  ├──29(29)\n",
      "   |  |  |  ├──86(86)\n",
      "   |  |  |  └──87(87)\n",
      "   |  |  ├──30(30)\n",
      "   |  |  |  └──88(88)\n",
      "   |  |  └──31(31)\n",
      "   |  |     ├──89(89)\n",
      "   |  |     ├──90(90)\n",
      "   |  |     └──91(91)\n",
      "   |  └──9(9)\n",
      "   |     ├──32(32)\n",
      "   |     |  ├──92(92)\n",
      "   |     |  ├──93(93)\n",
      "   |     |  └──94(94)\n",
      "   |     └──33(33)\n",
      "   |        └──95(95)\n",
      "   ├──4(4)\n",
      "   |  ├──10(10)\n",
      "   |  |  ├──34(34)\n",
      "   |  |  |  ├──96(96)\n",
      "   |  |  |  └──97(97)\n",
      "   |  |  └──35(35)\n",
      "   |  |     ├──98(98)\n",
      "   |  |     ├──99(99)\n",
      "   |  |     └──100(100)\n",
      "   |  ├──11(11)\n",
      "   |  |  ├──36(36)\n",
      "   |  |  |  ├──101(101)\n",
      "   |  |  |  ├──102(102)\n",
      "   |  |  |  └──103(103)\n",
      "   |  |  └──37(37)\n",
      "   |  |     ├──104(104)\n",
      "   |  |     ├──105(105)\n",
      "   |  |     └──106(106)\n",
      "   |  ├──12(12)\n",
      "   |  |  ├──38(38)\n",
      "   |  |  |  └──107(107)\n",
      "   |  |  ├──39(39)\n",
      "   |  |  |  ├──108(108)\n",
      "   |  |  |  └──109(109)\n",
      "   |  |  ├──40(40)\n",
      "   |  |  |  ├──110(110)\n",
      "   |  |  |  ├──111(111)\n",
      "   |  |  |  ├──112(112)\n",
      "   |  |  |  ├──113(113)\n",
      "   |  |  |  ├──114(114)\n",
      "   |  |  |  └──115(115)\n",
      "   |  |  ├──41(41)\n",
      "   |  |  |  ├──116(116)\n",
      "   |  |  |  └──117(117)\n",
      "   |  |  ├──42(42)\n",
      "   |  |  |  └──118(118)\n",
      "   |  |  └──43(43)\n",
      "   |  |     └──119(119)\n",
      "   |  └──13(13)\n",
      "   |     ├──44(44)\n",
      "   |     |  ├──120(120)\n",
      "   |     |  └──121(121)\n",
      "   |     └──45(45)\n",
      "   |        ├──122(122)\n",
      "   |        └──123(123)\n",
      "   └──5(5)\n",
      "      ├──14(14)\n",
      "      |  └──46(46)\n",
      "      |     ├──124(124)\n",
      "      |     ├──125(125)\n",
      "      |     ├──126(126)\n",
      "      |     └──127(127)\n",
      "      ├──15(15)\n",
      "      |  └──47(47)\n",
      "      |     ├──128(128)\n",
      "      |     ├──129(129)\n",
      "      |     └──130(130)\n",
      "      ├──16(16)\n",
      "      |  ├──48(48)\n",
      "      |  |  ├──131(131)\n",
      "      |  |  ├──132(132)\n",
      "      |  |  └──133(133)\n",
      "      |  └──49(49)\n",
      "      |     ├──134(134)\n",
      "      |     ├──135(135)\n",
      "      |     ├──136(136)\n",
      "      |     └──137(137)\n",
      "      ├──17(17)\n",
      "      |  ├──50(50)\n",
      "      |  |  ├──138(138)\n",
      "      |  |  └──139(139)\n",
      "      |  └──51(51)\n",
      "      |     ├──140(140)\n",
      "      |     ├──141(141)\n",
      "      |     ├──142(142)\n",
      "      |     └──143(143)\n",
      "      ├──18(18)\n",
      "      |  ├──52(52)\n",
      "      |  |  ├──144(144)\n",
      "      |  |  └──145(145)\n",
      "      |  ├──53(53)\n",
      "      |  |  ├──146(146)\n",
      "      |  |  ├──147(147)\n",
      "      |  |  ├──148(148)\n",
      "      |  |  └──149(149)\n",
      "      |  ├──54(54)\n",
      "      |  └──55(55)\n",
      "      └──19(19)\n",
      "         ├──56(56)\n",
      "         └──57(57)\n",
      "\n"
     ]
    }
   ],
   "source": [
    "from random import randint, seed\n",
    "seed(10)\n",
    "\n",
    "arbol = Arbol()\n",
    "\n",
    "padre_id = 0\n",
    "\n",
    "for i, valor in enumerate(range(1,150)):\n",
    "\n",
    "  arbol.agregar_nodo(valor, padre_id)\n",
    "\n",
    "  if i % randint(2,3) == 0:\n",
    "    padre_id += 1\n",
    "\n",
    "print(arbol)"
   ]
  },
  {
   "cell_type": "code",
   "execution_count": 38,
   "metadata": {
    "colab": {
     "base_uri": "https://localhost:8080/"
    },
    "executionInfo": {
     "elapsed": 234,
     "status": "ok",
     "timestamp": 1653367245998,
     "user": {
      "displayName": "CAUA SANTIAGO-PAZ TERRA",
      "userId": "12303588932687579419"
     },
     "user_tz": 240
    },
    "id": "QGaAdL1LUPGs",
    "outputId": "3e357ff2-a643-4ab2-d81f-2d37afcd5e86",
    "slideshow": {
     "slide_type": "skip"
    }
   },
   "outputs": [
    {
     "data": {
      "text/plain": [
       "('Uff creo que era muy alto, ta bien solo instanciar otro jugador',\n",
       " {Nodo de id: 0 y valor: None,\n",
       "  Nodo de id: 1 y valor: 1,\n",
       "  Nodo de id: 149 y valor: 149,\n",
       "  Nodo de id: 18 y valor: 18,\n",
       "  Nodo de id: 19 y valor: 19,\n",
       "  Nodo de id: 5 y valor: 5,\n",
       "  Nodo de id: 53 y valor: 53,\n",
       "  Nodo de id: 54 y valor: 54,\n",
       "  Nodo de id: 55 y valor: 55,\n",
       "  Nodo de id: 56 y valor: 56,\n",
       "  Nodo de id: 57 y valor: 57})"
      ]
     },
     "execution_count": 38,
     "metadata": {},
     "output_type": "execute_result"
    }
   ],
   "source": [
    "def puedo_saltar(nodo_a, nodo_b):\n",
    "  por_visitar = [nodo_a]\n",
    "  visitados = set()\n",
    "\n",
    "\n",
    "  while por_visitar:\n",
    "    visitando = por_visitar.pop()\n",
    "    \n",
    "    # Lo visitamos\n",
    "    visitados.add(visitando)\n",
    "\n",
    "    if visitando == nodo_b:\n",
    "      return (True if len(visitados)<=2 else 'Uff creo que era muy alto, ta bien solo instanciar otro jugador', visitados)\n",
    "\n",
    "    for nodo in visitando.hijos:\n",
    "        # Detalle clave: si ya visitamos el nodo, ¡no hacemos nada!\n",
    "      if nodo not in visitados:\n",
    "        por_visitar.append(nodo)\n",
    "\n",
    "  return False\n",
    "puedo_saltar(arbol.buscar_nodo(0), arbol.buscar_nodo(149))"
   ]
  },
  {
   "cell_type": "markdown",
   "metadata": {
    "slideshow": {
     "slide_type": "slide"
    }
   },
   "source": [
    "Hay un problema con el código anterior?"
   ]
  },
  {
   "cell_type": "markdown",
   "metadata": {
    "slideshow": {
     "slide_type": "fragment"
    }
   },
   "source": [
    "Si, el largo de visitados no refleja la ruta optima tomada hasta el nodo, y si el camino hecho por el dfs, de esa forma no necesariamente esta calculando bien la profundidad entre nodos."
   ]
  },
  {
   "cell_type": "markdown",
   "metadata": {
    "slideshow": {
     "slide_type": "fragment"
    }
   },
   "source": [
    "BFS: Usually implementing by the queue (first in the first out data structure) When you exhaust all the neighbor vertices layer by layer till you reach a destination node and halt at that node, Ex: you reach all the node from layer 1 if not found all that node layer into the queue, and keep doing for layer 2 and so on. It will guarantee the target node will be the shortest layer found so far (Because it halts after found target node, it will not traverse all the nodes in the graph (it faster than DFS in term of speed))\n",
    "\n",
    "DFS: Usually implementing by the stack (first in last out data structure) DSF exhausts all the nodes from a given point until it can't explore anymore. but when it found the target node there is no guarantee that the path is the shortest path so it has to traverse all the nodes in the graph to make sure that the path is the shortest. btw\n",
    "\n",
    "https://stackoverflow.com/questions/14784753/shortest-path-dfs-bfs-or-both\n"
   ]
  },
  {
   "cell_type": "markdown",
   "metadata": {},
   "source": [
    "Implementacion bfs con ruta más corta se encontra en la Ayudantia 10"
   ]
  },
  {
   "cell_type": "code",
   "execution_count": null,
   "metadata": {},
   "outputs": [],
   "source": []
  }
 ],
 "metadata": {
  "celltoolbar": "Slideshow",
  "colab": {
   "collapsed_sections": [],
   "name": "Ay Nodales 1.ipynb",
   "provenance": []
  },
  "interpreter": {
   "hash": "e7370f93d1d0cde622a1f8e1c04877d8463912d04d973331ad4851f04de6915a"
  },
  "kernelspec": {
   "display_name": "Python 3 (ipykernel)",
   "language": "python",
   "name": "python3"
  },
  "language_info": {
   "codemirror_mode": {
    "name": "ipython",
    "version": 3
   },
   "file_extension": ".py",
   "mimetype": "text/x-python",
   "name": "python",
   "nbconvert_exporter": "python",
   "pygments_lexer": "ipython3",
   "version": "3.8.10"
  }
 },
 "nbformat": 4,
 "nbformat_minor": 1
}
