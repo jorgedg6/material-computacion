{
 "cells": [
  {
   "cell_type": "markdown",
   "id": "350fb575",
   "metadata": {},
   "source": [
    "<p>\n",
    "<font size='5' face='Georgia, Arial'>IIC-2233 Apunte Programación Avanzada</font><br>\n",
    "<font size='1'> Material creado por Equipo Docente IIC2233. Modificado en 2021-1 y 2021-2 por Equipo Docente IIC2233</font>\n",
    "</p>"
   ]
  },
  {
   "cell_type": "markdown",
   "id": "4ece352b",
   "metadata": {},
   "source": [
    "Durante el capítulo de *networking* aprendimos el uso de *sockets* y algunos protocolos para establecer la comunicación a través de una arquitectura cliente-servidor. En este capítulo, revisaremos la comunicación entre dos dispositivos mediante la **web**.\n",
    "\n",
    "***Web services*** es el conjunto de aplicaciones cliente-servidor que se comunican a través de la web mediante un protocolo diseñado para ello. Podemos ver este tipo de servicios como aplicaciones que pueden ser accedidas por otras aplicaciones a través de una red de computadores (internet).\n",
    "\n",
    "Por ejemplo, cuando nuestro navegador (cliente) consume un sitio web (servidor), por cada **llamada al servidor**, una aplicación escrita en algún lenguaje de programación **envía una respuesta** en [HTML](https://es.wikipedia.org/wiki/HTML) (el lenguaje que se utiliza para definir la estructura de un sitio web) para que nuestro navegador la despliegue. Los _web services_ funcionan de forma similar, donde la salida está dirigida a una **aplicación que consume** esta información. Para que la comunicación sea posible, el formato de los mensajes debe ser conocido por ambas partes, para que la información pueda ser interpretada correctamente.\n"
   ]
  },
  {
   "cell_type": "markdown",
   "id": "6912f199",
   "metadata": {},
   "source": [
    "## API (*Application Programming Interface*)\n",
    "\n",
    "En general se conoce como **API** al conjunto de funciones que son expuestas por un servicio para ser utilizadas por otros programas. Podemos ver al servicio como una clase, y a la API como el conjunto de métodos de esa clase. El servicio puede ser un *web service* o cualquier paquete que exponga una interfaz, por ejemplo una librería de Python. Sin embargo, en este capítulo cuando hablemos de API nos estaremos refiriendo a los métodos expuestos por un servicio web (un *web service*).\n",
    "\n",
    "Una gran parte de los servicios actuales exponen una API, y permiten que otras aplicaciones se conectan a ellas. De esta manera podemos construir aplicaciones que utilizan servicios que se encuentren en computadores remotos, e interactuar con ellos.\n",
    "\n",
    "En una red de computadores, cada página web de internet es almacenada en un computador remoto que ejecuta un proceso servidor. Un servidor remoto es simplemente un programa que escuchas *requests* (solicitudes) y envía *responses* (respuestas) de acuerdo a un protocolo.\n",
    "\n",
    "Tú puedes utilizar tu propio computador para servir un sitio web. De hecho, los desarrolladores de *software* usan sus propios computadores como servidores locales al crear sitios web antes de publicarlos al mundo.\n",
    "\n",
    "Cuando escribes https://www.facebook.com en tu navegador, este envía una *request* a un servidor remoto de Facebook. Una vez que tu navegador recibe la respuesta del servidor, este la interpreta y despliega una página para ti.\n",
    "\n",
    "Para el navegador (cliente), el servidor de Facebook es una API. Esto significa que cada vez que tú visitas una página en la web, tú interactúas con alguna API en un servidor remoto. Una API no es lo mismo que un servidor remoto, pero es la parte de este que recibe las *requests* y envía *responses* (respuestas).\n",
    "\n",
    "Si cada objeto tecnológico de tu casa expusiera una API, podrías controlarla completamente desde tu celular o desde cualquier programa en Python u otro lenguaje (ver más en [internet de las cosas](https://es.wikipedia.org/wiki/Internet_de_las_cosas)).\n"
   ]
  },
  {
   "cell_type": "markdown",
   "id": "911e5d8b",
   "metadata": {},
   "source": [
    "## HTTP (***Hypertext Transfer Protocol***)\n",
    "\n",
    "Gran parte de las arquitecturas de *web services* se basan en el uso del protocolo **HTTP**. Este protocolo de aplicación está encargado de proporcionar una capa para realización de transacciones y así permitir la comunicación entre clientes y servidores. HTTP trabaja como un protocolo ***request-response*** en donde el cliente hace una solicitud (*request*) y el servidor responde con la información solicitada (*response*).\n",
    "\n",
    "HTTP es un protocolo en el que el servidor no guarda ninguna información de las conexiones. Por ejemplo, al acceder a métodos de un servicio web que requiere identificación del cliente, este deberá en cada consulta enviar **algo** que acredite su identidad.\n",
    "\n",
    "El funcionamiento de este protocolo se basa en la definición de métodos o verbos que indican la acción a desarrollar por un determinado recurso. Los recursos pueden ser datos existentes en el servidor (por ejemplo, archivos) o bien una salida generada dinámicamente. La versión HTTP/1.1 incluye **cinco** métodos:\n",
    "\n",
    "- `GET`: recupera una representación de un recurso sin cambiar nada en el servidor.\n",
    "- `POST`: crea un recurso.\n",
    "- `PATCH`: aplica modificaciones parciales a un recurso.\n",
    "- `PUT`: reemplaza completamente un recurso existente.\n",
    "- `DELETE`: elimina un recurso.\n",
    "\n",
    "HTTP incluye también un conjunto de códigos de estado mediante los cuales se entrega información al cliente sobre el resultado de su petición. Algunos códigos comunes de respuesta son:\n",
    "\n",
    "- `200` : OK. Solicitud exitosa.\n",
    "- `403` : Prohibido. La petición es aceptada, pero el servidor rechaza responderla.\n",
    "- `404` : No encontrado. El recurso solicitado no ha sido encontrado.\n",
    "- `500` : Error interno del servidor.\n",
    "\n",
    "Para más detalle de los códigos pueden revisar el siguiente [enlace]( http://www.w3schools.com/tags/ref_httpmessages.asp).\n",
    "\n",
    "La siguiente figura muestra un ejemplo con la estructura de los mensaje HTTP para la *request* del cliente y para la *response* desde el servidor.\n",
    "\n",
    "![](imgs/http_message.png)\n"
   ]
  },
  {
   "cell_type": "markdown",
   "id": "37a9b257",
   "metadata": {},
   "source": [
    "## *Client-side script*\n",
    "\n",
    "En esta sección veremos, desde el punto de vista del cliente, cómo efectuar *requests* a un servidor que mantiene un servicio web. En Python, la librería `requests` nos permite interactuar con servicios disponibles en algún *web service*. La librería, además, integra los métodos para serialización en JSON.\n",
    "\n",
    "Para instalar la librería `requests`, en cualquier terminal debes correr el comando `pip3 install requests`. Otra opción, es ejecutar la siguiente celda, que instalará la librería en el mismo entorno en que estés corriendo este jupyter (de todas maneras recomendamos instalarlo desde la consola):\n"
   ]
  },
  {
   "cell_type": "code",
   "execution_count": null,
   "id": "f2bb4de0",
   "metadata": {
    "tags": []
   },
   "outputs": [],
   "source": [
    "!pip3 install requests"
   ]
  },
  {
   "cell_type": "markdown",
   "id": "740b7b18",
   "metadata": {},
   "source": [
    "Para generar una petición mediante `GET` usamos el método `get(url)` que recibe por argumento el llamado al recurso.\n"
   ]
  },
  {
   "cell_type": "code",
   "execution_count": 25,
   "id": "493f3713",
   "metadata": {},
   "outputs": [],
   "source": [
    "import requests\n",
    "\n",
    "# Esta url contiene la dirección del web service \n",
    "# y los parámetros que se requiren para la consulta\n",
    "url = 'https://api.github.com/repos/IIC2233/Syllabus/issues/122'\n",
    "response = requests.get(url)\n"
   ]
  },
  {
   "cell_type": "code",
   "execution_count": 26,
   "id": "20617c7a",
   "metadata": {},
   "outputs": [
    {
     "name": "stdout",
     "output_type": "stream",
     "text": [
      "Status: 200\n"
     ]
    }
   ],
   "source": [
    "print(f'Status: {response.status_code}')\n"
   ]
  },
  {
   "cell_type": "code",
   "execution_count": 27,
   "id": "d4646969",
   "metadata": {},
   "outputs": [
    {
     "name": "stdout",
     "output_type": "stream",
     "text": [
      "<!-- **Esta es una plantilla para que dejes dudas relacionadas con la tarea actual. Si tienes dudas de otro tipo, utiliza la plantilla apropiada. Recuerda utilizar la pestaña \"Preview\" para ver cómo se vería tu *issue* antes de publicarla.** -->\n",
      "\n",
      "### Prerrequisitos\n",
      "(Marcar colocando una X entre los corchetes los ítems que ya hiciste, así: \"[X]\")\n",
      "\n",
      "* [x] Leí las reglas del foro (https://github.com/IIC2233/syllabus/issues/4)\n",
      "* [x] Busqué en las *issues* si ya preguntaron mi duda y no encontré nada parecido (https://github.com/IIC2233/syllabus/issues)\n",
      "* [x] Revisé el compilado de dudas de la tarea y no encontré una *issue* similar a la mía (https://github.com/IIC2233/syllabus/issues/1)\n",
      "* [x] Mi duda no se trata sobre una librería, *built-in* o mala práctica, ya que eso se pregunta en la *issue* creada para ello.\n",
      "* [x] Mi duda no se trata de un tema administrativo o personal, ya que en ese caso debo contactar a mi profe, al Jefe de Bienestar o al correo del curso (https://iic2233.github.io/contacto/)\n",
      "* [x] Utilizaré un título descriptivo y llenaré correctamente esta plantilla\n",
      "* [x] De ser necesario, solo colocaré código simple que permita explicar mi problema o duda, ya que compartir código de esta evaluación puede ser considerado copia\n",
      "\n",
      "### Duda\n",
      "\n",
      "Hola, saben si se puede crear otro archivo.py como abridor de csv, guardando todo así en listas y después llamando a estas listas desde mi código principal; o incluyo este abridor de archivos dentro de parametros.py? Porque según lo que explicaban en otra issue #77 , los csv pueden ser entregados con distinto orden de columnas, y para hacer frente a ese caso aumentan mucho mis líneas de código y el archivo principal me queda muy largo. Gracias!\n"
     ]
    }
   ],
   "source": [
    "# El output de esta respuesta particular\n",
    "# puede ser transformado desde JSON a dict\n",
    "print(response.json()['body'])\n"
   ]
  },
  {
   "cell_type": "markdown",
   "id": "6ee6bf11",
   "metadata": {},
   "source": [
    "**Así como esta API, existen muchas otras. No todas responden en formato JSON.**\n"
   ]
  },
  {
   "cell_type": "code",
   "execution_count": 28,
   "id": "5691655e",
   "metadata": {},
   "outputs": [
    {
     "name": "stdout",
     "output_type": "stream",
     "text": [
      "200 146.155.115.175\n"
     ]
    }
   ],
   "source": [
    "# Podemos usar una API para obtener nuestra IP pública\n",
    "# Notar que no estamos transformando a JSON\n",
    "response = requests.get('https://api.ipify.org')\n",
    "ip = response.text\n",
    "print(response.status_code, ip)\n"
   ]
  },
  {
   "cell_type": "code",
   "execution_count": 29,
   "id": "a9a50aab",
   "metadata": {},
   "outputs": [
    {
     "name": "stdout",
     "output_type": "stream",
     "text": [
      "200 -33.451300,-70.665300\n"
     ]
    }
   ],
   "source": [
    "# Podemos ahora usar una API para obtener la latitud y \n",
    "# longitud en la que nos encontramos al momento de correr este código\n",
    "response = requests.get(f'https://ipapi.co/{ip}/latlong/')\n",
    "print(response.status_code, response.text)\n"
   ]
  },
  {
   "cell_type": "markdown",
   "id": "ccb9ee73",
   "metadata": {},
   "source": [
    "Por temas de seguridad, muchas de las APIs públicas necesitan una llave/clave para poder utilizarlas. Para conseguir estas *keys* en general debes crearte una cuenta. De esta forma se mantiene control de la aplicación expuesta, quiénes están accediendo a ella, con qué frecuencia, etc.\n"
   ]
  },
  {
   "cell_type": "code",
   "execution_count": 30,
   "id": "73961af4",
   "metadata": {},
   "outputs": [],
   "source": [
    "# Además, podemos usar otra API para ver más descripciones de la IP utilizada\n",
    "url = 'http://api.ipstack.com/'\n",
    "# En este caso puedes usar esta `API_KEY` para probar\n",
    "API_KEY = 'c657ed216cf3e05d129bd6b2ccb8589e'\n",
    "# Recibe la API_KEY como parámetro\n",
    "\n",
    "# Esto puede ser enviado de dos formas:\n",
    "\n",
    "# 1. Agregando los parámetros en la URL:\n",
    "pais = requests.get('{}/{}?access_key={}'.format(url, ip, API_KEY))\n",
    "\n",
    "# 2. Pasando los parámetros en el método:\n",
    "pais = requests.get(f'{url}/{ip}', params={'access_key': API_KEY})\n"
   ]
  },
  {
   "cell_type": "code",
   "execution_count": 31,
   "id": "faed4744",
   "metadata": {},
   "outputs": [
    {
     "data": {
      "text/plain": [
       "200"
      ]
     },
     "execution_count": 31,
     "metadata": {},
     "output_type": "execute_result"
    }
   ],
   "source": [
    "pais.status_code\n"
   ]
  },
  {
   "cell_type": "code",
   "execution_count": 32,
   "id": "6bb970c3",
   "metadata": {},
   "outputs": [
    {
     "data": {
      "text/plain": [
       "{'content-type': 'application/json', 'transfer-encoding': 'chunked', 'date': 'Thu, 09 Jun 2022 23:35:41 GMT', 'x-apilayer-transaction-id': '54d6b3bd-c7ad-40c0-adec-ff1c6fe8f09c', 'access-control-allow-origin': '*', 'access-control-allow-methods': 'GET, POST, HEAD, OPTIONS', 'access-control-allow-headers': '*', 'x-quota-limit': '100', 'x-quota-remaining': '93', 'x-increment-usage': '1', 'x-request-time': '0.032'}"
      ]
     },
     "execution_count": 32,
     "metadata": {},
     "output_type": "execute_result"
    }
   ],
   "source": [
    "pais.headers\n"
   ]
  },
  {
   "cell_type": "code",
   "execution_count": 33,
   "id": "93ae1c6f",
   "metadata": {},
   "outputs": [
    {
     "data": {
      "text/plain": [
       "{'ip': '146.155.115.175',\n",
       " 'type': 'ipv4',\n",
       " 'continent_code': 'SA',\n",
       " 'continent_name': 'South America',\n",
       " 'country_code': 'CL',\n",
       " 'country_name': 'Chile',\n",
       " 'region_code': 'RM',\n",
       " 'region_name': 'Santiago Metropolitan',\n",
       " 'city': 'Santiago',\n",
       " 'zip': None,\n",
       " 'latitude': -33.46500015258789,\n",
       " 'longitude': -70.65599822998047,\n",
       " 'location': {'geoname_id': 3871336,\n",
       "  'capital': 'Santiago',\n",
       "  'languages': [{'code': 'es', 'name': 'Spanish', 'native': 'Español'}],\n",
       "  'country_flag': 'https://assets.ipstack.com/flags/cl.svg',\n",
       "  'country_flag_emoji': '🇨🇱',\n",
       "  'country_flag_emoji_unicode': 'U+1F1E8 U+1F1F1',\n",
       "  'calling_code': '56',\n",
       "  'is_eu': False}}"
      ]
     },
     "execution_count": 33,
     "metadata": {},
     "output_type": "execute_result"
    }
   ],
   "source": [
    "# En este caso la API sí retorna un JSON\n",
    "pais.json()\n"
   ]
  },
  {
   "cell_type": "markdown",
   "id": "5f89f460",
   "metadata": {},
   "source": [
    "En el caso de la API con la que hemos estado haciendo estas pruebas, solo se ofrecen servicios para realizar consultas, lo que se puede llevar a cabo utilizando el método `GET` del protocolo HTTP. Sin embargo, muchas veces queremos crear recursos en nuestro servidor, como por ejemplo crear un nuevo artículo para un *blog*, y para esto debemos utilizar el método `POST` del protocolo.\n",
    "\n",
    "La API de `JSONPlaceholder` nos permite simular el uso de una API real, sin que verdaderamente exista un servicio detrás de esta. En este caso la utilizaremos para simular la creación de un artículo para un *blog*. En la práctica no estará ocurriendo nada en el servidor, puesto que es solo una simulación, pero en la vida real uno esperaría que como respuesta a nuestra *request* se cree una entrada en la base de datos del servicio que estamos utilizando. Pueden ver más información de como usar esta API [aquí](https://jsonplaceholder.typicode.com/).\n",
    "\n",
    "A diferencia del método `GET`, cuando utilizamos el método `POST` podemos enviar información a la API utilizando el parámetro `data`, al cual podemos pasarle un diccionario de Python con la información que queremos enviar. Para este ejemplo debemos enviar la información de un artículo noticioso que queremos crear.\n"
   ]
  },
  {
   "cell_type": "code",
   "execution_count": 34,
   "id": "598af741",
   "metadata": {},
   "outputs": [],
   "source": [
    "# Extracto de un artículo proveniente del blog https://venezolanoenchile.com/2016/01/20/como-es-el-clima-en-santiago-de-chile/\n",
    "cuerpo = 'El clima de Santiago es muy extraño para los que venimos de un país tropical como Venezuela y, más aún, para los que vivíamos en Maracaibo, como yo.\\nUn día de verano, mientras caminaba a eso de las 2pm hacia mi trabajo, me puse a pensar en los temas que no he tocado aún en el blog. En ese momento, con 32°C de temperatura y bajo el sol, decidí escribir sobre este tema.\\nChile es un país que tiene muchos tipos de clima, desde el desértico hasta el frío antártico. Pero como yo no conozco ninguna otra ciudad de Chile que no sea Santiago, todo lo que diré a continuación será de la capital.'\n",
    "\n",
    "data = {\n",
    "    'title': '¿Cómo es el clima en Santiago de Chile?',\n",
    "    'body': cuerpo,\n",
    "    'userId': 1,\n",
    "}\n",
    "\n",
    "noticia = requests.post('https://jsonplaceholder.typicode.com/posts', data=data)\n"
   ]
  },
  {
   "cell_type": "code",
   "execution_count": 35,
   "id": "3ddf0a4d",
   "metadata": {},
   "outputs": [
    {
     "name": "stdout",
     "output_type": "stream",
     "text": [
      "201\n",
      "Created\n",
      "{'title': '¿Cómo es el clima en Santiago de Chile?', 'body': 'El clima de Santiago es muy extraño para los que venimos de un país tropical como Venezuela y, más aún, para los que vivíamos en Maracaibo, como yo.\\nUn día de verano, mientras caminaba a eso de las 2pm hacia mi trabajo, me puse a pensar en los temas que no he tocado aún en el blog. En ese momento, con 32°C de temperatura y bajo el sol, decidí escribir sobre este tema.\\nChile es un país que tiene muchos tipos de clima, desde el desértico hasta el frío antártico. Pero como yo no conozco ninguna otra ciudad de Chile que no sea Santiago, todo lo que diré a continuación será de la capital.', 'userId': '1', 'id': 101}\n"
     ]
    }
   ],
   "source": [
    "# Vemos que obtenemos un código de que nuestro artículo fue creado\n",
    "print(noticia.status_code)\n",
    "print(noticia.reason)\n",
    "\n",
    "# Esta API nos retorna un JSON con el mismo recurso creado, notese que se le asignó un id al artículo\n",
    "print(noticia.json())\n"
   ]
  },
  {
   "cell_type": "markdown",
   "id": "54daefb3",
   "metadata": {},
   "source": [
    "## *Server-side App*\n",
    "\n",
    "La misión principal del servidor es disponer el contenido para que pueda ser consultado mediante un *web service*. La aplicación que corre en el servidor es la encargada de la lógica e interacción entre cliente-servidor. La información que viaja entre un cliente y un servidor permite generar comunicación entre aplicaciones.\n",
    "\n",
    "Una aplicación puede estar desarrollada en cualquier lenguaje de programación que permita exponer una API para ser consumida por otras aplicaciones a través de la web. Por ejemplo, podemos tener una aplicación corriendo en Java, y desde nuestro código en Python acceder a esa API.\n",
    "\n",
    "En Python existen varios *frameworks* de programación para exponer APIs, como **Flask** y **Django**. Además, puedes montar tus aplicaciones en servicios o servidores ya disponibles en la web, provistos como Platform-as-a-Service (PaaS) o Infrastructure-as-a-Service (IaaS). Por ejemplo, puedes usar **Heroku** (PaaS), **Digital Ocean** (IaaS), o **Microsoft Azure** (PaaS) para disponer tus APIs en una red pública con alta disponibilidad.\n"
   ]
  },
  {
   "cell_type": "markdown",
   "id": "93fb1318",
   "metadata": {},
   "source": [
    "A modo de ejemplo, Antonio Ossa escribió hace algunos semestres, una API utilizando **Flask** y montada en **Heroku**.\n",
    "\n",
    "Esta API mantiene una base de datos de una versión ficticia del curso, donde alumnos pueden registrarse en distintas secciones.\n",
    "\n",
    "Además, permite enviar código escrito en Python para que sea **arreglado** para que siga algunas reglas de PEP8.\n"
   ]
  },
  {
   "cell_type": "code",
   "execution_count": 64,
   "id": "46ff88a5",
   "metadata": {},
   "outputs": [
    {
     "data": {
      "text/plain": [
       "200"
      ]
     },
     "execution_count": 64,
     "metadata": {},
     "output_type": "execute_result"
    }
   ],
   "source": [
    "# La URL base de la API creada\n",
    "BASE_URL = \"https://api-iic2233.herokuapp.com/{}\"\n",
    "\n",
    "# Podemos consultar por los estudiantes del curso\n",
    "estudiantes = requests.get(BASE_URL.format(\"estudiantes\"))\n",
    "estudiantes.status_code\n"
   ]
  },
  {
   "cell_type": "code",
   "execution_count": 65,
   "id": "de319089",
   "metadata": {},
   "outputs": [
    {
     "name": "stdout",
     "output_type": "stream",
     "text": [
      "{'nombre': 'María José Hidalgo', 'username': 'mjhidalgo'}\n"
     ]
    }
   ],
   "source": [
    "for estudiante in estudiantes.json():\n",
    "    print(estudiante)\n"
   ]
  },
  {
   "cell_type": "code",
   "execution_count": 63,
   "id": "8a41a148",
   "metadata": {},
   "outputs": [
    {
     "name": "stdout",
     "output_type": "stream",
     "text": [
      "400 {'message': \"Ya se registró este 'username' de GitHub :O\"}\n"
     ]
    }
   ],
   "source": [
    "# ¡Falta un alumno! Lo agregaré\n",
    "datos_alumno = {\n",
    "    \"nombre\": \"María José Hidalgo\",\n",
    "    \"username\": \"mjhidalgo\",\n",
    "}\n",
    "respuesta = requests.post(BASE_URL.format(\"estudiantes\"), data=datos_alumno)\n",
    "\n",
    "print(respuesta.status_code, respuesta.json())\n"
   ]
  }
 ],
 "metadata": {
  "kernelspec": {
   "display_name": "Python 3 (ipykernel)",
   "language": "python",
   "name": "python3"
  },
  "language_info": {
   "codemirror_mode": {
    "name": "ipython",
    "version": 3
   },
   "file_extension": ".py",
   "mimetype": "text/x-python",
   "name": "python",
   "nbconvert_exporter": "python",
   "pygments_lexer": "ipython3",
   "version": "3.8.10"
  }
 },
 "nbformat": 4,
 "nbformat_minor": 5
}
