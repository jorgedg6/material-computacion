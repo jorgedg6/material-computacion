{
 "cells": [
  {
   "cell_type": "markdown",
   "metadata": {},
   "source": [
    "<p>\n",
    "<font size='5' face='Georgia, Arial'>IIC-2233 Apunte Programación Avanzada</font><br>\n",
    "<font size='1'>&copy; 2016-2017 Ivania Donoso - Antonio Ossa. Editado en 2018-2, 2019-1, 2020-1 y 2021-1 por Equipo Docente IIC2233.</font>\n",
    "</p>"
   ]
  },
  {
   "cell_type": "markdown",
   "metadata": {},
   "source": [
    "## Operaciones básicas en grafos\n",
    "\n",
    "Las operaciones básicas que se implementan para un grafo `G` son:\n",
    "\n",
    "* **`adyacentes(G, x, y)`**. Indica si existe una arista entre `x` e `y`. Retorna un booleano.\n",
    "\n",
    "* **`vecinos(G, x)`**. Entrega una lista con todos los vértices `y` tales que existe una arista entre `x` e `y`. Retorna una lista de nodos.\n",
    "\n",
    "* **`agregar_vertice(G, x)`**. Agrega el vértice `x` al grafo.\n",
    "\n",
    "* **`remover_vertice(G, x)`**. Elimina el vértice `x` del grafo.\n",
    "\n",
    "* **`agregar_arista(G, x, y)`**. Agrega una arista entre los vértices `x` e `y`.\n",
    "\n",
    "* **`remover_arista(G, x, y)`**. Elimia la arista entre `x` e `y`."
   ]
  },
  {
   "cell_type": "markdown",
   "metadata": {},
   "source": [
    "Además de las operaciones mencionadas anteriormente, se pueden implementar funciones para obtener y fijar valores de vértices o aristas en el grafo. Estas no son consideradas necesariamente operaciones básicas de grafos, ya que su implementación depende fuertemente de la modelación y estructura utilizada. Utilizaremos las operaciones listadas como las básicas para el siguiente ejemplo."
   ]
  },
  {
   "cell_type": "markdown",
   "metadata": {},
   "source": [
    "## Ejemplo: grafo de amistades\n",
    "\n",
    "Supongamos que quieres representar a tus amigos como un grafo. **Cada nodo sería una persona**, y cada vez que un nodo $A$ se conecte con un nodo $B$ significa que **$A$ considera que $B$ es su amigo 😄**. No siempre esta relación es simétrica; es decir, no siempre nuestros amigos creen que somos sus amigos. De hecho, cerca de la mitad de las personas que consideramos nuestros amigos no nos consideran amigos suyos 😢 ([comprobado cientificamente](http://www.nytimes.com/2016/08/07/opinion/sunday/do-your-friends-actually-like-you.html)). Por lo tanto el grafo que tendremos que representar es un **grafo dirigido**.\n",
    "\n",
    "Partamos con la clase `Persona`."
   ]
  },
  {
   "cell_type": "code",
   "execution_count": 1,
   "metadata": {},
   "outputs": [],
   "source": [
    "class Persona:\n",
    "\n",
    "    def __init__(self, nombre, edad):\n",
    "        self.nombre = nombre\n",
    "        self.edad = edad\n",
    "\n",
    "    def __repr__(self):\n",
    "        return self.nombre\n"
   ]
  },
  {
   "cell_type": "markdown",
   "metadata": {},
   "source": [
    "Como dijimos, cada nodo es una persona. Para esto tenemos dos posibilidades: cada nodo tiene como valor a un objeto del tipo `Persona`, o cada Persona es un nodo en el grafo. Para este ejemplo, haremos lo primero. Crearemos una clase `Nodo` cuyo valor sea del tipo `Persona`. Esto simplemente es una decisión de modelación, donde `Nodo` es la clase para encapsular posibles valores, e independizarlo del tipo del valor que contiene, que en este caso son de la clase `Persona`.\n",
    "\n",
    "Si, por ejemplo, la entidad `Persona` no tiene muchas funcionalidades y simplemente funciona como nodo, podría modelarse de la segunda forma."
   ]
  },
  {
   "cell_type": "code",
   "execution_count": 2,
   "metadata": {},
   "outputs": [],
   "source": [
    "# En este modelamiento, cada nodo del grafo posee un valor.\n",
    "# Esto permite modelar cualquier nodo de un grafo.\n",
    "\n",
    "# Para nuestro ejemplo, el valor será un objeto de clase Persona.\n",
    "class Nodo:\n",
    "\n",
    "    def __init__(self, valor):\n",
    "        self.valor = valor\n",
    "\n",
    "    def __repr__(self):\n",
    "        return repr(self.valor)\n"
   ]
  },
  {
   "cell_type": "markdown",
   "metadata": {},
   "source": [
    "Ahora definimos la clase `Grafo`, representado como **listas de adyacencia**, sobre la cual realizaremos nuestras operaciones."
   ]
  },
  {
   "cell_type": "code",
   "execution_count": 3,
   "metadata": {},
   "outputs": [],
   "source": [
    "class Grafo:\n",
    "\n",
    "    # Permitimos que el grafo se construya a partir de una lista de adyacencia existente,\n",
    "    # o bien que parte con una lista de adyacencia vacío (un diccionario vacío)\n",
    "    def __init__(self, lista_adyacencia=None):\n",
    "        self.lista_adyacencia = lista_adyacencia or dict()\n",
    "\n",
    "    # Encontrar si 'x' e 'y' están conectados se puede lograr buscando 'y' en la lista de adyacencia de 'x',\n",
    "    def adyacentes(self, x, y):\n",
    "        return y in self.lista_adyacencia[x]\n",
    "\n",
    "    # Para encontrar la lista de vecinos de un nodo 'x', simplemente accedemos a su lista de adyacencia\n",
    "    def vecinos(self, x):\n",
    "        return self.lista_adyacencia[x]\n",
    "\n",
    "    # Para agregar un vértice 'x' al grafo, agregamos una llave más al diccionario\n",
    "    # que mantiene la listas de adyacencia.\n",
    "    # Como la lista de adyacencia de 'x' está inicialmente vacía, la inicializamos con un conjunto vacío\n",
    "    # También podía haber sido una lista vacía\n",
    "    def agregar_vertice(self, x):\n",
    "        self.lista_adyacencia[x] = set()\n",
    "\n",
    "    # Eliminar un vertice requiere un poco más de trabajo porque también hay que eliminar su conexiones\n",
    "    # (aristas) con el resto del grafo.\n",
    "    # El método 'pop(x,V)' de un diccionario elimina la entrada que tiene llave 'x'.\n",
    "    # Si la llave 'x' no existe en el diccionario, retorna el valor por defecto 'V'\n",
    "    # Luego de eliminar la entrada con llave 'x', se debe recorrer el grafo y eliminar todos las entradas\n",
    "    # que se refieran a 'x'\n",
    "    def remover_vertice(self, x):\n",
    "        self.lista_adyacencia.pop(x, None)\n",
    "        for k, v in self.lista_adyacencia.items():\n",
    "            if x in v:\n",
    "                v.remove(x)\n",
    "\n",
    "    # Para agregar una arista entre 'x' e 'y', debemos ir a la lista de adyacencia de 'x'\n",
    "    # y agregar 'y' al conjunto\n",
    "    def agregar_arista(self, x, y):\n",
    "        if x in self.lista_adyacencia:\n",
    "            self.lista_adyacencia[x].add(y)\n",
    "\n",
    "    # Eliminar unar arista entre 'x' e 'y' requiere buscar la entrada de 'y' en a lista de adyacencia de 'x'\n",
    "    def remover_arista(self, x, y):\n",
    "        vecinos_x = self.lista_adyacencia.get(x, set())\n",
    "        if y in vecinos_x:\n",
    "            vecinos_x.remove(y)\n",
    "\n",
    "    def __repr__(self):\n",
    "        texto_nodos = []\n",
    "        for nodo, vecinos in self.lista_adyacencia.items():\n",
    "            texto_nodos.append(f\"Amigos de {nodo}: {vecinos}.\")\n",
    "        return \"\\n\".join(texto_nodos)\n"
   ]
  },
  {
   "cell_type": "markdown",
   "metadata": {},
   "source": [
    "Veamos cómo se llevan algunos ayudantes del curso (Nota: esto fue escrito inicialmente en 2017-1).  \n",
    "(*Las opiniones vertidas en éste código son de exclusiva responsabilidad de quienes coordinaron el curso en el 2017-1 (a.k.a. Bastián) y no representan necesariamente el pensamiento de quien programó este código.*)"
   ]
  },
  {
   "cell_type": "code",
   "execution_count": 4,
   "metadata": {},
   "outputs": [
    {
     "data": {
      "text/plain": [
       "Amigos de Bastián: {Florencia B, Ivania, Florencia V, Matías, Antonio, Freddie}.\n",
       "Amigos de Florencia V: {Florencia B, Freddie, Ivania}.\n",
       "Amigos de Antonio: {Florencia V, Ivania, Matías}.\n",
       "Amigos de Matías: {Freddie, Antonio}.\n",
       "Amigos de Florencia B: {Florencia V, Ivania, Antonio, Matías}.\n",
       "Amigos de Ivania: {Florencia V, Freddie, Florencia B, Antonio}."
      ]
     },
     "execution_count": 4,
     "metadata": {},
     "output_type": "execute_result"
    }
   ],
   "source": [
    "# Creamos a nuestros ayudantes y los guardamos en nodos.\n",
    "bamavrakis = Nodo(Persona(\"Bastián\", 15))\n",
    "fvr1 = Nodo(Persona(\"Florencia V\", 20))\n",
    "aaossa = Nodo(Persona(\"Antonio\", 21))\n",
    "flobarrios = Nodo(Persona(\"Florencia B\", 20))\n",
    "mjjunemann = Nodo(Persona(\"Matías\", 20))\n",
    "fgvenegas = Nodo(Persona(\"Freddie\", 10))\n",
    "indonoso = Nodo(Persona(\"Ivania\", 22))\n",
    "\n",
    "# Definimos las amistades.\n",
    "amistades = {\n",
    "    bamavrakis: set([fvr1, aaossa, flobarrios, mjjunemann, fgvenegas, indonoso]),\n",
    "    fvr1: set([flobarrios, fgvenegas, indonoso]),\n",
    "    aaossa: set([fvr1, mjjunemann, indonoso]),\n",
    "    mjjunemann: set([aaossa, fgvenegas]),\n",
    "    flobarrios: set([fvr1, aaossa, mjjunemann, indonoso]),\n",
    "    indonoso: set([fvr1, aaossa, flobarrios, fgvenegas])\n",
    "}\n",
    "\n",
    "grafo = Grafo(amistades)\n",
    "grafo\n"
   ]
  },
  {
   "cell_type": "code",
   "execution_count": 5,
   "metadata": {},
   "outputs": [
    {
     "name": "stdout",
     "output_type": "stream",
     "text": [
      "Amigos de Freddie: set()\n",
      "Amigos de Freddie: {Antonio, Bastián}\n"
     ]
    }
   ],
   "source": [
    "# ¡Rayos! Nos olvidamos de un ayudante...\n",
    "# Siempre nos olvidamos de Freddie :(\n",
    "grafo.agregar_vertice(fgvenegas)\n",
    "print(f\"Amigos de Freddie: {grafo.vecinos(fgvenegas)}\")\n",
    "\n",
    "# Freddie dice que tiene algunos amigos.\n",
    "grafo.agregar_arista(fgvenegas, aaossa)\n",
    "grafo.agregar_arista(fgvenegas, bamavrakis)\n",
    "print(f\"Amigos de Freddie: {grafo.vecinos(fgvenegas)}\")\n",
    "\n",
    "# Y Jüne dice que Freddie es su amigo.\n",
    "grafo.agregar_arista(mjjunemann, fgvenegas)\n"
   ]
  },
  {
   "cell_type": "code",
   "execution_count": 6,
   "metadata": {},
   "outputs": [
    {
     "data": {
      "text/plain": [
       "Amigos de Bastián: {Florencia B, Ivania, Matías, Antonio, Freddie}.\n",
       "Amigos de Antonio: {Ivania, Matías}.\n",
       "Amigos de Matías: {Freddie, Antonio}.\n",
       "Amigos de Florencia B: {Ivania, Antonio, Matías}.\n",
       "Amigos de Ivania: {Freddie, Florencia B, Antonio}.\n",
       "Amigos de Freddie: {Antonio, Bastián}."
      ]
     },
     "execution_count": 6,
     "metadata": {},
     "output_type": "execute_result"
    }
   ],
   "source": [
    "# A Flory le cae mal Freddie, así que renuncia.\n",
    "grafo.remover_vertice(fvr1)\n",
    "grafo\n"
   ]
  },
  {
   "cell_type": "markdown",
   "metadata": {},
   "source": [
    "**Puedes poner en práctica el uso de operaciones sobre grafos realizando los ejercicios propuestos 2.1 y 2.2.**"
   ]
  }
 ],
 "metadata": {
  "kernelspec": {
   "display_name": "Python 3 (ipykernel)",
   "language": "python",
   "name": "python3"
  },
  "language_info": {
   "codemirror_mode": {
    "name": "ipython",
    "version": 3
   },
   "file_extension": ".py",
   "mimetype": "text/x-python",
   "name": "python",
   "nbconvert_exporter": "python",
   "pygments_lexer": "ipython3",
   "version": "3.8.10"
  }
 },
 "nbformat": 4,
 "nbformat_minor": 2
}
